{
 "cells": [
  {
   "cell_type": "markdown",
   "id": "dcdf909c-e340-4f99-a2a2-c481a3b5b5f6",
   "metadata": {},
   "source": [
    "ChatGPT link:\n",
    "\n",
    "https://chat.openai.com/share/5cda925a-0099-4b31-8057-5ce3ac069a0d"
   ]
  },
  {
   "cell_type": "markdown",
   "id": "7c61abc1-20dc-43be-88ba-a5319023f2db",
   "metadata": {},
   "source": [
    "# Day 2: Cube Conundrum\n",
    "\n",
    "You're launched high into the atmosphere! The apex of your trajectory just barely reaches the surface of a large island floating in the sky. You gently land in a fluffy pile of leaves. It's quite cold, but you don't see much snow. An Elf runs over to greet you.\n",
    "\n",
    "The Elf explains that you've arrived at Snow Island and apologizes for the lack of snow. He'll be happy to explain the situation, but it's a bit of a walk, so you have some time. They don't get many visitors up here; would you like to play a game in the meantime?\n",
    "\n",
    "As you walk, the Elf shows you a small bag and some cubes which are either red, green, or blue. Each time you play this game, he will hide a secret number of cubes of each color in the bag, and your goal is to figure out information about the number of cubes.\n",
    "\n",
    "To get information, once a bag has been loaded with cubes, the Elf will reach into the bag, grab a handful of random cubes, show them to you, and then put them back in the bag. He'll do this a few times per game.\n",
    "\n",
    "You play several games and record the information from each game (your puzzle input). Each game is listed with its ID number (like the 11 in Game 11: ...) followed by a semicolon-separated list of subsets of cubes that were revealed from the bag (like 3 red, 5 green, 4 blue).\n",
    "\n",
    "For example, the record of a few games might look like this:\n",
    "\n",
    "```\n",
    "Game 1: 3 blue, 4 red; 1 red, 2 green, 6 blue; 2 green\n",
    "Game 2: 1 blue, 2 green; 3 green, 4 blue, 1 red; 1 green, 1 blue\n",
    "Game 3: 8 green, 6 blue, 20 red; 5 blue, 4 red, 13 green; 5 green, 1 red\n",
    "Game 4: 1 green, 3 red, 6 blue; 3 green, 6 red; 3 green, 15 blue, 14 red\n",
    "Game 5: 6 red, 1 blue, 3 green; 2 blue, 1 red, 2 green\n",
    "```\n",
    "\n",
    "\n",
    "In game 1, three sets of cubes are revealed from the bag (and then put back again). The first set is 3 blue cubes and 4 red cubes; the second set is 1 red cube, 2 green cubes, and 6 blue cubes; the third set is only 2 green cubes.\n",
    "\n",
    "The Elf would first like to know which games would have been possible if the bag contained only 12 red cubes, 13 green cubes, and 14 blue cubes?\n",
    "\n",
    "In the example above, games 1, 2, and 5 would have been possible if the bag had been loaded with that configuration. However, game 3 would have been impossible because at one point the Elf showed you 20 red cubes at once; similarly, game 4 would also have been impossible because the Elf showed you 15 blue cubes at once. If you add up the IDs of the games that would have been possible, you get 8.\n",
    "\n",
    "Determine which games would have been possible if the bag had been loaded with only 12 red cubes, 13 green cubes, and 14 blue cubes. What is the sum of the IDs of those games?"
   ]
  },
  {
   "cell_type": "code",
   "execution_count": 22,
   "id": "52da649a-aade-4799-b866-979fac636e73",
   "metadata": {
    "execution": {
     "iopub.execute_input": "2023-12-02T18:11:58.468726Z",
     "iopub.status.busy": "2023-12-02T18:11:58.468726Z",
     "iopub.status.idle": "2023-12-02T18:11:58.483731Z",
     "shell.execute_reply": "2023-12-02T18:11:58.482777Z",
     "shell.execute_reply.started": "2023-12-02T18:11:58.468726Z"
    },
    "tags": []
   },
   "outputs": [],
   "source": [
    "def read_input_file(file_path: str) -> str:\n",
    "    \"\"\"\n",
    "    Read the contents of an input file and return as a string.\n",
    "\n",
    "    Parameters:\n",
    "    - file_path (str): Path to the input file.\n",
    "\n",
    "    Returns:\n",
    "    - str: Contents of the input file as a string.\n",
    "    \"\"\"\n",
    "    try:\n",
    "        with open(file_path, 'r') as file:\n",
    "            return file.read()\n",
    "    except FileNotFoundError:\n",
    "        print(f\"Error: File not found at path '{file_path}'.\")\n",
    "        return \"\"\n",
    "    except Exception as e:\n",
    "        print(f\"Error: An unexpected error occurred - {e}\")\n",
    "        return \"\"\n"
   ]
  },
  {
   "cell_type": "code",
   "execution_count": 29,
   "id": "ebf075ea-c065-4a4a-a34a-9fb85b62e49d",
   "metadata": {
    "execution": {
     "iopub.execute_input": "2023-12-02T18:13:29.655286Z",
     "iopub.status.busy": "2023-12-02T18:13:29.655286Z",
     "iopub.status.idle": "2023-12-02T18:13:29.662267Z",
     "shell.execute_reply": "2023-12-02T18:13:29.661270Z",
     "shell.execute_reply.started": "2023-12-02T18:13:29.655286Z"
    }
   },
   "outputs": [
    {
     "name": "stdout",
     "output_type": "stream",
     "text": [
      "Game Number: Game 1\n",
      "Moves List:\n",
      "5 red, 1 green\n",
      "6 red, 3 blue\n",
      "9 red\n",
      "1 blue, 1 green, 4 red\n",
      "1 green, 2 blue\n",
      "2 blue, 1 red\n"
     ]
    }
   ],
   "source": [
    "def split_game_string(game_string: str) -> tuple:\n",
    "    \"\"\"\n",
    "    Split a game string into game number and a list of moves.\n",
    "\n",
    "    Parameters:\n",
    "    - game_string (str): Input string containing game information.\n",
    "\n",
    "    Returns:\n",
    "    - tuple: A tuple containing game number (str) and list of moves (list of str).\n",
    "    \"\"\"\n",
    "    # Split into game number and moves\n",
    "    game_info, moves_str = game_string.split(':')\n",
    "    game_num = game_info.strip()\n",
    "    moves_list = [move.strip() for move in moves_str.split(';')]\n",
    "\n",
    "    return game_num, moves_list\n",
    "\n",
    "# Example usage\n",
    "input_data = 'Game 1: 5 red, 1 green; 6 red, 3 blue; 9 red; 1 blue, 1 green, 4 red; 1 green, 2 blue; 2 blue, 1 red'\n",
    "game_num, moves_list = split_game_string(input_data)\n",
    "\n",
    "print(f\"Game Number: {game_num}\")\n",
    "print(\"Moves List:\")\n",
    "for move in moves_list:\n",
    "    print(move)\n"
   ]
  },
  {
   "cell_type": "code",
   "execution_count": 38,
   "id": "4af21f52-fa3e-4056-916c-a8ba2acafd69",
   "metadata": {
    "execution": {
     "iopub.execute_input": "2023-12-02T18:19:02.180048Z",
     "iopub.status.busy": "2023-12-02T18:19:02.180048Z",
     "iopub.status.idle": "2023-12-02T18:19:02.191018Z",
     "shell.execute_reply": "2023-12-02T18:19:02.190020Z",
     "shell.execute_reply.started": "2023-12-02T18:19:02.180048Z"
    },
    "tags": []
   },
   "outputs": [],
   "source": [
    "def split_game_string(game_string: str) -> tuple:\n",
    "    \"\"\"\n",
    "    Split a game string into game number and a list of dictionaries representing each move.\n",
    "\n",
    "    Each move dictionary contains counts for 'blue', 'red', and 'green'.\n",
    "\n",
    "    Parameters:\n",
    "    - game_string (str): Input string containing game information.\n",
    "\n",
    "    Returns:\n",
    "    - tuple: A tuple containing game number (str) and list of dictionaries representing each move.\n",
    "    \"\"\"\n",
    "    def parse_move(move):\n",
    "        move_dict = {'blue': 0, 'red': 0, 'green': 0}\n",
    "        parts = move.replace(',', '').split()\n",
    "\n",
    "        for i in range(0, len(parts), 2):\n",
    "            quantity = int(parts[i])\n",
    "            color = parts[i + 1].lower()  # Convert color to lowercase for case-insensitivity\n",
    "            move_dict[color] = quantity\n",
    "\n",
    "        return move_dict\n",
    "\n",
    "    # Remove ',' characters and split into game number and moves\n",
    "    game_info, moves_str = game_string.replace(',', '').split(':')\n",
    "    game_num = game_info.strip()\n",
    "    moves_list = [parse_move(move) for move in moves_str.split(';')]\n",
    "\n",
    "    return game_num, moves_list"
   ]
  },
  {
   "cell_type": "code",
   "execution_count": 48,
   "id": "767fc82a-24c7-41a9-b99f-c023d6cbd55f",
   "metadata": {
    "execution": {
     "iopub.execute_input": "2023-12-02T18:21:02.111825Z",
     "iopub.status.busy": "2023-12-02T18:21:02.110829Z",
     "iopub.status.idle": "2023-12-02T18:21:02.123829Z",
     "shell.execute_reply": "2023-12-02T18:21:02.122324Z",
     "shell.execute_reply.started": "2023-12-02T18:21:02.111825Z"
    }
   },
   "outputs": [],
   "source": [
    "import re\n",
    "from typing import Optional\n",
    "\n",
    "def extract_game_number(game_string: str) -> Optional[int]:\n",
    "    \"\"\"\n",
    "    Extract the numeric part from a game string and return it as an integer.\n",
    "\n",
    "    Parameters:\n",
    "    - game_string (str): The input string containing the game information.\n",
    "\n",
    "    Returns:\n",
    "    - Optional[int]: The extracted game number as an integer, or None if no match is found.\n",
    "    \"\"\"\n",
    "    match = re.search(r'\\d+', game_string)\n",
    "    return int(match.group()) if match else None"
   ]
  },
  {
   "cell_type": "code",
   "execution_count": 63,
   "id": "c509f89f-4993-4614-a095-de3f6c00df3b",
   "metadata": {
    "execution": {
     "iopub.execute_input": "2023-12-02T18:24:21.328872Z",
     "iopub.status.busy": "2023-12-02T18:24:21.328872Z",
     "iopub.status.idle": "2023-12-02T18:24:21.341840Z",
     "shell.execute_reply": "2023-12-02T18:24:21.340842Z",
     "shell.execute_reply.started": "2023-12-02T18:24:21.328872Z"
    },
    "tags": []
   },
   "outputs": [],
   "source": [
    "from typing import List, Dict\n",
    "\n",
    "def check_values(dictionary: Dict[str, int], list_of_dicts: List[Dict[str, int]]) -> bool:\n",
    "    \"\"\"\n",
    "    Check if values in a list of dictionaries are less than or equal to their\n",
    "    respective counterparts in a reference dictionary.\n",
    "\n",
    "    Parameters:\n",
    "    - dictionary (Dict[str, int]): The reference dictionary.\n",
    "    - list_of_dicts (List[Dict[str, int]]): The list of dictionaries to check.\n",
    "\n",
    "    Returns:\n",
    "    - bool: True if all values are less than or equal, False otherwise.\n",
    "    \"\"\"\n",
    "    return all(all(item[key] <= dictionary[key] for key in item) for item in list_of_dicts)"
   ]
  },
  {
   "cell_type": "code",
   "execution_count": 42,
   "id": "f18b3a5a-b06b-4537-89ce-f8a7fded7ff2",
   "metadata": {
    "execution": {
     "iopub.execute_input": "2023-12-02T18:19:12.229599Z",
     "iopub.status.busy": "2023-12-02T18:19:12.228602Z",
     "iopub.status.idle": "2023-12-02T18:19:12.238556Z",
     "shell.execute_reply": "2023-12-02T18:19:12.237583Z",
     "shell.execute_reply.started": "2023-12-02T18:19:12.229599Z"
    },
    "tags": []
   },
   "outputs": [],
   "source": [
    "input_file_path = \"Chris_Davis_input_day2.txt\"\n",
    "input_data = read_input_file(input_file_path)"
   ]
  },
  {
   "cell_type": "code",
   "execution_count": 43,
   "id": "8d882a8e-af2c-4f9b-9a01-c4d63e0cb417",
   "metadata": {
    "execution": {
     "iopub.execute_input": "2023-12-02T18:19:13.082089Z",
     "iopub.status.busy": "2023-12-02T18:19:13.082089Z",
     "iopub.status.idle": "2023-12-02T18:19:13.095055Z",
     "shell.execute_reply": "2023-12-02T18:19:13.094085Z",
     "shell.execute_reply.started": "2023-12-02T18:19:13.082089Z"
    },
    "tags": []
   },
   "outputs": [
    {
     "data": {
      "text/plain": [
       "'Game 1: 5 red, 1 green; 6 red, 3 blue; 9 red; 1 blue, 1 green, 4 red; 1 green, 2 blue; 2 blue, 1 red'"
      ]
     },
     "execution_count": 43,
     "metadata": {},
     "output_type": "execute_result"
    }
   ],
   "source": [
    "input_data.split('\\n')[0]"
   ]
  },
  {
   "cell_type": "code",
   "execution_count": 67,
   "id": "93dca03a-b9fa-4020-9bb9-96f5af71f23d",
   "metadata": {
    "execution": {
     "iopub.execute_input": "2023-12-02T18:28:53.747762Z",
     "iopub.status.busy": "2023-12-02T18:28:53.746764Z",
     "iopub.status.idle": "2023-12-02T18:28:53.758729Z",
     "shell.execute_reply": "2023-12-02T18:28:53.757753Z",
     "shell.execute_reply.started": "2023-12-02T18:28:53.747762Z"
    },
    "tags": []
   },
   "outputs": [],
   "source": [
    "data_dict = {}\n",
    "for line in input_data.splitlines():\n",
    "    game_num, moves_list = split_game_string(line)\n",
    "    data_dict[extract_game_number(game_num)] = moves_list"
   ]
  },
  {
   "cell_type": "code",
   "execution_count": 68,
   "id": "f8e552f1-16f6-4bba-9c11-d9304fb53578",
   "metadata": {
    "execution": {
     "iopub.execute_input": "2023-12-02T18:28:53.977148Z",
     "iopub.status.busy": "2023-12-02T18:28:53.977148Z",
     "iopub.status.idle": "2023-12-02T18:28:53.989116Z",
     "shell.execute_reply": "2023-12-02T18:28:53.988116Z",
     "shell.execute_reply.started": "2023-12-02T18:28:53.977148Z"
    },
    "tags": []
   },
   "outputs": [],
   "source": [
    "from pprint import pprint"
   ]
  },
  {
   "cell_type": "code",
   "execution_count": null,
   "id": "3df94113-7f64-4abe-b187-fecfea7e8160",
   "metadata": {
    "scrolled": true,
    "tags": []
   },
   "outputs": [],
   "source": [
    "pprint(data_dict)"
   ]
  },
  {
   "cell_type": "code",
   "execution_count": 73,
   "id": "daaf7206-cc7b-4982-a244-fb529bf9b307",
   "metadata": {
    "execution": {
     "iopub.execute_input": "2023-12-02T18:29:33.145711Z",
     "iopub.status.busy": "2023-12-02T18:29:33.144718Z",
     "iopub.status.idle": "2023-12-02T18:29:33.167651Z",
     "shell.execute_reply": "2023-12-02T18:29:33.166654Z",
     "shell.execute_reply.started": "2023-12-02T18:29:33.145711Z"
    }
   },
   "outputs": [
    {
     "data": {
      "text/plain": [
       "[{'blue': 0, 'red': 5, 'green': 1},\n",
       " {'blue': 3, 'red': 6, 'green': 0},\n",
       " {'blue': 0, 'red': 9, 'green': 0},\n",
       " {'blue': 1, 'red': 4, 'green': 1},\n",
       " {'blue': 2, 'red': 0, 'green': 1},\n",
       " {'blue': 2, 'red': 1, 'green': 0}]"
      ]
     },
     "execution_count": 73,
     "metadata": {},
     "output_type": "execute_result"
    }
   ],
   "source": [
    "data_dict[1]"
   ]
  },
  {
   "cell_type": "code",
   "execution_count": 70,
   "id": "323be81a-c6e6-4d99-a4ad-e7c4b02645c8",
   "metadata": {
    "execution": {
     "iopub.execute_input": "2023-12-02T18:29:03.112498Z",
     "iopub.status.busy": "2023-12-02T18:29:03.112498Z",
     "iopub.status.idle": "2023-12-02T18:29:03.128432Z",
     "shell.execute_reply": "2023-12-02T18:29:03.127437Z",
     "shell.execute_reply.started": "2023-12-02T18:29:03.112498Z"
    },
    "tags": []
   },
   "outputs": [],
   "source": [
    "valid_ids = []\n",
    "for game_id, moves_list in data_dict.items():\n",
    "    reference_dict = {'red': 12, 'green': 13, 'blue': 14}\n",
    "    if check_values(reference_dict, moves_list):\n",
    "        valid_ids.append(game_id)"
   ]
  },
  {
   "cell_type": "code",
   "execution_count": 72,
   "id": "9044f988-d5f6-4eea-99b4-71753d0b75e6",
   "metadata": {
    "execution": {
     "iopub.execute_input": "2023-12-02T18:29:09.207159Z",
     "iopub.status.busy": "2023-12-02T18:29:09.207159Z",
     "iopub.status.idle": "2023-12-02T18:29:09.217131Z",
     "shell.execute_reply": "2023-12-02T18:29:09.216133Z",
     "shell.execute_reply.started": "2023-12-02T18:29:09.207159Z"
    },
    "tags": []
   },
   "outputs": [
    {
     "data": {
      "text/plain": [
       "1867"
      ]
     },
     "execution_count": 72,
     "metadata": {},
     "output_type": "execute_result"
    }
   ],
   "source": [
    "sum(valid_ids)"
   ]
  },
  {
   "cell_type": "markdown",
   "id": "403d1fda-9e30-47c7-82c5-34f87422ee06",
   "metadata": {},
   "source": [
    "# Part Two\n",
    "\n",
    "The Elf says they've stopped producing snow because they aren't getting any water! He isn't sure why the water stopped; however, he can show you how to get to the water source to check it out for yourself. It's just up ahead!\n",
    "\n",
    "As you continue your walk, the Elf poses a second question: in each game you played, what is the fewest number of cubes of each color that could have been in the bag to make the game possible?\n",
    "\n",
    "Again consider the example games from earlier:\n",
    "\n",
    "```\n",
    "Game 1: 3 blue, 4 red; 1 red, 2 green, 6 blue; 2 green\n",
    "Game 2: 1 blue, 2 green; 3 green, 4 blue, 1 red; 1 green, 1 blue\n",
    "Game 3: 8 green, 6 blue, 20 red; 5 blue, 4 red, 13 green; 5 green, 1 red\n",
    "Game 4: 1 green, 3 red, 6 blue; 3 green, 6 red; 3 green, 15 blue, 14 red\n",
    "Game 5: 6 red, 1 blue, 3 green; 2 blue, 1 red, 2 green\n",
    "```\n",
    "\n",
    "\n",
    "- In game 1, the game could have been played with as few as 4 red, 2 green, and 6 blue cubes. If any color had even one fewer cube, the game would have been impossible.\n",
    "- Game 2 could have been played with a minimum of 1 red, 3 green, and 4 blue cubes.\n",
    "- Game 3 must have been played with at least 20 red, 13 green, and 6 blue cubes.\n",
    "- Game 4 required at least 14 red, 3 green, and 15 blue cubes.\n",
    "- Game 5 needed no fewer than 6 red, 3 green, and 2 blue cubes in the bag.\n",
    "\n",
    "\n",
    "     \n",
    "The power of a set of cubes is equal to the numbers of red, green, and blue cubes multiplied together. The power of the minimum set of cubes in game 1 is 48. In games 2-5 it was 12, 1560, 630, and 36, respectively. Adding up these five powers produces the sum 2286.\n",
    "\n",
    "\n",
    "\n",
    "For each game, find the minimum set of cubes that must have been present. What is the sum of the power of these sets?"
   ]
  },
  {
   "cell_type": "code",
   "execution_count": 75,
   "id": "1338ede6-83d9-4918-b4f7-b21c0160a8f8",
   "metadata": {
    "execution": {
     "iopub.execute_input": "2023-12-02T18:32:33.868983Z",
     "iopub.status.busy": "2023-12-02T18:32:33.868983Z",
     "iopub.status.idle": "2023-12-02T18:32:33.883464Z",
     "shell.execute_reply": "2023-12-02T18:32:33.882945Z",
     "shell.execute_reply.started": "2023-12-02T18:32:33.868983Z"
    },
    "tags": []
   },
   "outputs": [
    {
     "name": "stdout",
     "output_type": "stream",
     "text": [
      "{'blue': 3, 'red': 10, 'green': 1}\n"
     ]
    }
   ],
   "source": [
    "from typing import List, Dict\n",
    "\n",
    "def find_largest_values(list_of_dicts: List[Dict[str, int]]) -> Dict[str, int]:\n",
    "    \"\"\"\n",
    "    Find the largest values for each color in a list of dictionaries.\n",
    "\n",
    "    Parameters:\n",
    "    - list_of_dicts (List[Dict[str, int]]): The list of dictionaries.\n",
    "\n",
    "    Returns:\n",
    "    - Dict[str, int]: A dictionary containing the largest values for each color.\n",
    "    \"\"\"\n",
    "    max_values = {}\n",
    "\n",
    "    for item in list_of_dicts:\n",
    "        for key, value in item.items():\n",
    "            max_values[key] = max(max_values.get(key, float('-inf')), value)\n",
    "\n",
    "    return max_values\n",
    "\n",
    "# Example usage\n",
    "list_of_dicts = [\n",
    "    {'blue': 0, 'red': 10, 'green': 1},\n",
    "    {'blue': 3, 'red': 6, 'green': 0},\n",
    "    {'blue': 0, 'red': 9, 'green': 0},\n",
    "    {'blue': 1, 'red': 4, 'green': 1},\n",
    "    {'blue': 2, 'red': 0, 'green': 1},\n",
    "    {'blue': 2, 'red': 1, 'green': 0}\n",
    "]\n",
    "\n",
    "result = find_largest_values(list_of_dicts)\n",
    "print(result)\n"
   ]
  },
  {
   "cell_type": "code",
   "execution_count": 88,
   "id": "68bfedd8-2c5f-43b4-b6d9-96abd2d95551",
   "metadata": {
    "execution": {
     "iopub.execute_input": "2023-12-02T18:42:25.868848Z",
     "iopub.status.busy": "2023-12-02T18:42:25.868848Z",
     "iopub.status.idle": "2023-12-02T18:42:25.888797Z",
     "shell.execute_reply": "2023-12-02T18:42:25.887798Z",
     "shell.execute_reply.started": "2023-12-02T18:42:25.868848Z"
    },
    "tags": []
   },
   "outputs": [],
   "source": [
    "import numpy as np\n",
    "from typing import Dict\n",
    "\n",
    "def multiply_dictionary_values(dictionary: Dict[str, int]) -> int:\n",
    "    \"\"\"\n",
    "    Multiply all the values in a dictionary together using NumPy.\n",
    "\n",
    "    Parameters:\n",
    "    - dictionary (Dict[str, int]): The input dictionary.\n",
    "\n",
    "    Returns:\n",
    "    - int: The result of multiplying all values together.\n",
    "    \"\"\"\n",
    "    values_array = np.array(list(dictionary.values()))\n",
    "    result = np.prod(values_array)\n",
    "    return result"
   ]
  },
  {
   "cell_type": "code",
   "execution_count": 77,
   "id": "d022f57d-63a3-48c0-92c8-29354ef61690",
   "metadata": {
    "execution": {
     "iopub.execute_input": "2023-12-02T18:33:32.822984Z",
     "iopub.status.busy": "2023-12-02T18:33:32.822984Z",
     "iopub.status.idle": "2023-12-02T18:33:32.841932Z",
     "shell.execute_reply": "2023-12-02T18:33:32.840936Z",
     "shell.execute_reply.started": "2023-12-02T18:33:32.822984Z"
    },
    "tags": []
   },
   "outputs": [],
   "source": [
    "fewest_cube_dict = {}\n",
    "for game_id, move_list in data_dict.items():\n",
    "    fewest_cube_dict[game_id] = find_largest_values(move_list)"
   ]
  },
  {
   "cell_type": "code",
   "execution_count": 87,
   "id": "f608cf89-bb90-4038-ae9b-6703e7a760dc",
   "metadata": {
    "execution": {
     "iopub.execute_input": "2023-12-02T18:39:18.795083Z",
     "iopub.status.busy": "2023-12-02T18:39:18.794085Z",
     "iopub.status.idle": "2023-12-02T18:39:18.804058Z",
     "shell.execute_reply": "2023-12-02T18:39:18.803060Z",
     "shell.execute_reply.started": "2023-12-02T18:39:18.795083Z"
    },
    "tags": []
   },
   "outputs": [
    {
     "data": {
      "text/plain": [
       "84538"
      ]
     },
     "execution_count": 87,
     "metadata": {},
     "output_type": "execute_result"
    }
   ],
   "source": [
    "result = 0\n",
    "for _, fewest_cubes in fewest_cube_dict.items():\n",
    "    result += multiply_dictionary_values(fewest_cubes)\n",
    "result"
   ]
  },
  {
   "cell_type": "code",
   "execution_count": null,
   "id": "ff174a4c-b8dd-48d1-a3fc-bdb8d5c109dd",
   "metadata": {},
   "outputs": [],
   "source": []
  }
 ],
 "metadata": {
  "kernelspec": {
   "display_name": "Python 3 (ipykernel)",
   "language": "python",
   "name": "python3"
  },
  "language_info": {
   "codemirror_mode": {
    "name": "ipython",
    "version": 3
   },
   "file_extension": ".py",
   "mimetype": "text/x-python",
   "name": "python",
   "nbconvert_exporter": "python",
   "pygments_lexer": "ipython3",
   "version": "3.9.7"
  }
 },
 "nbformat": 4,
 "nbformat_minor": 5
}
