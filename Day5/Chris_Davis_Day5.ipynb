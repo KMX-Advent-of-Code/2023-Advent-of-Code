{
 "cells": [
  {
   "cell_type": "markdown",
   "id": "e6172173-46e7-4924-adc1-a4c10631ea54",
   "metadata": {},
   "source": [
    "Chat GPT link:\n",
    "https://chat.openai.com/share/94908c64-c5d8-4eb5-be83-77dc3c5ee8cb"
   ]
  },
  {
   "cell_type": "markdown",
   "id": "6f2e9b4d-1ca3-424b-b076-12e64af81e2a",
   "metadata": {},
   "source": [
    "# Day 5: If You Give A Seed A Fertilizer\n",
    "\n",
    "You take the boat and find the gardener right where you were told he would be: managing a giant \"garden\" that looks more to you like a farm.\n",
    "\n",
    "\"A water source? Island Island is the water source!\" You point out that Snow Island isn't receiving any water.\n",
    "\n",
    "\"Oh, we had to stop the water because we ran out of sand to filter it with! Can't make snow with dirty water. Don't worry, I'm sure we'll get more sand soon; we only turned off the water a few days... weeks... oh no.\" His face sinks into a look of horrified realization.\n",
    "\n",
    "\"I've been so busy making sure everyone here has food that I completely forgot to check why we stopped getting more sand! There's a ferry leaving soon that is headed over in that direction - it's much faster than your boat. Could you please go check it out?\"\n",
    "\n",
    "You barely have time to agree to this request when he brings up another. \"While you wait for the ferry, maybe you can help us with our food production problem. The latest Island Island Almanac just arrived and we're having trouble making sense of it.\"\n",
    "\n",
    "The almanac (your puzzle input) lists all of the seeds that need to be planted. It also lists what type of soil to use with each kind of seed, what type of fertilizer to use with each kind of soil, what type of water to use with each kind of fertilizer, and so on. Every type of seed, soil, fertilizer and so on is identified with a number, but numbers are reused by each category - that is, soil 123 and fertilizer 123 aren't necessarily related to each other.\n",
    "\n",
    "For example:\n",
    "\n",
    "```\n",
    "seeds: 79 14 55 13\n",
    "\n",
    "seed-to-soil map:\n",
    "50 98 2\n",
    "52 50 48\n",
    "\n",
    "soil-to-fertilizer map:\n",
    "0 15 37\n",
    "37 52 2\n",
    "39 0 15\n",
    "\n",
    "fertilizer-to-water map:\n",
    "49 53 8\n",
    "0 11 42\n",
    "42 0 7\n",
    "57 7 4\n",
    "\n",
    "water-to-light map:\n",
    "88 18 7\n",
    "18 25 70\n",
    "\n",
    "light-to-temperature map:\n",
    "45 77 23\n",
    "81 45 19\n",
    "68 64 13\n",
    "\n",
    "temperature-to-humidity map:\n",
    "0 69 1\n",
    "1 0 69\n",
    "\n",
    "humidity-to-location map:\n",
    "60 56 37\n",
    "56 93 4\n",
    "```\n",
    "\n",
    "\n",
    "The almanac starts by listing which seeds need to be planted: seeds 79, 14, 55, and 13.\n",
    "\n",
    "The rest of the almanac contains a list of maps which describe how to convert numbers from a source category into numbers in a destination category. That is, the section that starts with seed-to-soil map: describes how to convert a seed number (the source) to a soil number (the destination). This lets the gardener and his team know which soil to use with which seeds, which water to use with which fertilizer, and so on.\n",
    "\n",
    "Rather than list every source number and its corresponding destination number one by one, the maps describe entire ranges of numbers that can be converted. Each line within a map contains three numbers: the destination range start, the source range start, and the range length.\n",
    "\n",
    "Consider again the example seed-to-soil map:\n",
    "\n",
    "```\n",
    "50 98 2\n",
    "52 50 48\n",
    "```\n",
    "\n",
    "\n",
    "The first line has a destination range start of 50, a source range start of 98, and a range length of 2. This line means that the source range starts at 98 and contains two values: 98 and 99. The destination range is the same length, but it starts at 50, so its two values are 50 and 51. With this information, you know that seed number 98 corresponds to soil number 50 and that seed number 99 corresponds to soil number 51.\n",
    "\n",
    "The second line means that the source range starts at 50 and contains 48 values: 50, 51, ..., 96, 97. This corresponds to a destination range starting at 52 and also containing 48 values: 52, 53, ..., 98, 99. So, seed number 53 corresponds to soil number 55.\n",
    "\n",
    "Any source numbers that aren't mapped correspond to the same destination number. So, seed number 10 corresponds to soil number 10.\n",
    "\n",
    "So, the entire list of seed numbers and their corresponding soil numbers looks like this:\n",
    "\n",
    "```\n",
    "seed  soil\n",
    "0     0\n",
    "1     1\n",
    "...   ...\n",
    "48    48\n",
    "49    49\n",
    "50    52\n",
    "51    53\n",
    "...   ...\n",
    "96    98\n",
    "97    99\n",
    "98    50\n",
    "99    51\n",
    "```\n",
    "\n",
    "\n",
    "With this map, you can look up the soil number required for each initial seed number:\n",
    "\n",
    "    Seed number 79 corresponds to soil number 81.\n",
    "    Seed number 14 corresponds to soil number 14.\n",
    "    Seed number 55 corresponds to soil number 57.\n",
    "    Seed number 13 corresponds to soil number 13.\n",
    "\n",
    "The gardener and his team want to get started as soon as possible, so they'd like to know the closest location that needs a seed. Using these maps, find the lowest location number that corresponds to any of the initial seeds. To do this, you'll need to convert each seed number through other categories until you can find its corresponding location number. In this example, the corresponding types are:\n",
    "\n",
    "    Seed 79, soil 81, fertilizer 81, water 81, light 74, temperature 78, humidity 78, location 82.\n",
    "    Seed 14, soil 14, fertilizer 53, water 49, light 42, temperature 42, humidity 43, location 43.\n",
    "    Seed 55, soil 57, fertilizer 57, water 53, light 46, temperature 82, humidity 82, location 86.\n",
    "    Seed 13, soil 13, fertilizer 52, water 41, light 34, temperature 34, humidity 35, location 35.\n",
    "\n",
    "So, the lowest location number in this example is 35.\n",
    "\n",
    "What is the lowest location number that corresponds to any of the initial seed numbers?"
   ]
  },
  {
   "cell_type": "code",
   "execution_count": 1,
   "id": "e839c205-711d-442f-97de-b4b0c771b27d",
   "metadata": {
    "execution": {
     "iopub.execute_input": "2023-12-06T07:26:13.752632Z",
     "iopub.status.busy": "2023-12-06T07:26:13.752632Z",
     "iopub.status.idle": "2023-12-06T07:26:13.775572Z",
     "shell.execute_reply": "2023-12-06T07:26:13.774593Z",
     "shell.execute_reply.started": "2023-12-06T07:26:13.752632Z"
    },
    "tags": []
   },
   "outputs": [],
   "source": [
    "from typing import List, Dict, Tuple\n",
    "\n",
    "def parse_input_file(file_path: str) -> Tuple[List[int], List[Dict[str, List[Dict[str, int]]]]]:\n",
    "    \"\"\"\n",
    "    Parse the input file and extract relevant information.\n",
    "\n",
    "    Args:\n",
    "    - file_path (str): The path to the input file.\n",
    "\n",
    "    Returns:\n",
    "    - Tuple[List[int], List[Dict[str, List[Dict[str, int]]]]]: A tuple containing:\n",
    "      1. List of seed numbers.\n",
    "      2. List of dictionaries for each map, with information about the map.\n",
    "\n",
    "    Example:\n",
    "    >>> parse_input_file(\"input.txt\")\n",
    "    ([10, 20, 50], [{'seed_to_soil_map': [{'destination_range_start': 50, 'source_range_start': 98, 'range_length': 2}, ...]},\n",
    "                   {'soil_to_fertilizer_map': [{'destination_range_start': 0, 'source_range_start': 15, 'range_length': 37}, ...]}])\n",
    "    \"\"\"\n",
    "    seed_numbers = []\n",
    "    maps_data = []\n",
    "\n",
    "    with open(file_path, 'r') as file:\n",
    "        lines = file.readlines()\n",
    "\n",
    "    i = 0\n",
    "    while i < len(lines):\n",
    "        line = lines[i].strip()\n",
    "        i += 1\n",
    "\n",
    "        if line.startswith(\"seeds:\"):\n",
    "            seed_numbers = list(map(int, line.split()[1:]))\n",
    "        elif line.endswith(\"map:\"):\n",
    "            map_name = line.split()[0].lower()\n",
    "            map_data = []\n",
    "\n",
    "            while i < len(lines) and lines[i].strip():\n",
    "                map_row = list(map(int, lines[i].split()))\n",
    "                map_data.append({\n",
    "                    'destination_range_start': map_row[0],\n",
    "                    'source_range_start': map_row[1],\n",
    "                    'range_length': map_row[2],\n",
    "                })\n",
    "                i += 1\n",
    "\n",
    "            maps_data.append({f'{map_name}_map': map_data})\n",
    "\n",
    "    return seed_numbers, maps_data\n"
   ]
  },
  {
   "cell_type": "code",
   "execution_count": null,
   "id": "d66199dc-548c-4f2a-af83-6c8870e11ef4",
   "metadata": {
    "tags": []
   },
   "outputs": [],
   "source": [
    "file_path = \"Chris_Davis_input_day5.txt\"\n",
    "#file_path = 'test_input.txt'\n",
    "seeds, maps = parse_input_file(file_path)\n",
    "print(\"Seed Numbers:\", seeds)\n",
    "print(\"Maps Data:\", maps)"
   ]
  },
  {
   "cell_type": "code",
   "execution_count": null,
   "id": "52bddc2c-4af7-458d-a052-9b471ab58d14",
   "metadata": {
    "tags": []
   },
   "outputs": [],
   "source": [
    "from typing import List, Dict, Tuple\n",
    "\n",
    "def process_maps(maps_data: List[Dict[str, List[Dict[str, int]]]]) -> List[Dict[str, List[Dict[str, int]]]]:\n",
    "    \"\"\"\n",
    "    Add 'source_type' and 'destination_type' keys to the outer dictionary for each map.\n",
    "\n",
    "    Args:\n",
    "    - maps_data (List[Dict[str, List[Dict[str, int]]]]): List of dictionaries representing maps.\n",
    "\n",
    "    Returns:\n",
    "    - List[Dict[str, List[Dict[str, int]]]]: Updated list of dictionaries with 'source_type' and 'destination_type' keys.\n",
    "\n",
    "    Example:\n",
    "    >>> process_maps([{'seed_to_soil_map': [{'destination_range_start': 50, 'source_range_start': 98, 'range_length': 2}, ...]}])\n",
    "    [{'source_type': 'seed', 'destination_type': 'soil', 'map': [{'destination_range_start': 50, 'source_range_start': 98, 'range_length': 2}, ...]}]\n",
    "    \"\"\"\n",
    "    processed_maps = []\n",
    "\n",
    "    for map_entry in maps_data:\n",
    "        processed_map_entry = {}\n",
    "        for map_name, map_list in map_entry.items():\n",
    "            source_type, destination_type = map_name.split('-to-')\n",
    "            \n",
    "            processed_list = []\n",
    "            for entry in map_list:\n",
    "                entry['source_type'] = source_type\n",
    "                entry['destination_type'] = destination_type.strip('_map')\n",
    "                processed_list.append(entry)\n",
    "\n",
    "            # Add the keys to the outer dictionary\n",
    "            processed_map_entry['source_type'] = source_type\n",
    "            processed_map_entry['destination_type'] = destination_type.strip('_map')\n",
    "            processed_map_entry['map'] = processed_list\n",
    "\n",
    "        processed_maps.append(processed_map_entry)\n",
    "\n",
    "    return processed_maps"
   ]
  },
  {
   "cell_type": "code",
   "execution_count": 4,
   "id": "95f09157-cc27-4bac-855e-f40c514585b8",
   "metadata": {
    "execution": {
     "iopub.execute_input": "2023-12-06T07:26:14.194012Z",
     "iopub.status.busy": "2023-12-06T07:26:14.194012Z",
     "iopub.status.idle": "2023-12-06T07:26:14.207973Z",
     "shell.execute_reply": "2023-12-06T07:26:14.206977Z",
     "shell.execute_reply.started": "2023-12-06T07:26:14.194012Z"
    },
    "tags": []
   },
   "outputs": [],
   "source": [
    "processed_maps = process_maps(maps)"
   ]
  },
  {
   "cell_type": "code",
   "execution_count": 5,
   "id": "fb29c29f-aac9-4833-a581-88d72c4f6416",
   "metadata": {
    "execution": {
     "iopub.execute_input": "2023-12-06T07:26:14.348451Z",
     "iopub.status.busy": "2023-12-06T07:26:14.348451Z",
     "iopub.status.idle": "2023-12-06T07:26:14.362413Z",
     "shell.execute_reply": "2023-12-06T07:26:14.361416Z",
     "shell.execute_reply.started": "2023-12-06T07:26:14.348451Z"
    },
    "tags": []
   },
   "outputs": [],
   "source": [
    "import logging\n",
    "from typing import List, Dict, Union\n",
    "\n",
    "# Configure logging\n",
    "logging.basicConfig(level=logging.INFO)\n",
    "\n",
    "def traverse_maps(seed: int, source_type: str, destination_type: str, maps: List[Dict[str, List[Dict[str, Union[int, str]]]]]) -> Union[int, None]:\n",
    "    \"\"\"\n",
    "    Traverse through the maps based on source_type and destination_type.\n",
    "\n",
    "    Args:\n",
    "    - seed (int): The initial seed value.\n",
    "    - source_type (str): The initial source type.\n",
    "    - destination_type (str): The final destination type.\n",
    "    - maps (List[Dict[str, List[Dict[str, Union[int, str]]]]]): List of dictionaries representing maps.\n",
    "\n",
    "    Returns:\n",
    "    - Union[int, None]: The final value or None if the destination type is not found.\n",
    "\n",
    "    Example:\n",
    "    >>> seed_to_soil_map = [{'destination_range_start': 50, 'source_range_start': 98, 'range_length': 2, 'source_type': 'seed', 'destination_type': 'soil'}]\n",
    "    >>> maps_data = [{'source_type': 'seed', 'destination_type': 'soil', 'map': seed_to_soil_map}]\n",
    "    >>> traverse_maps(10, 'seed', 'location', maps_data)\n",
    "    52\n",
    "    \"\"\"\n",
    "    current_value = seed\n",
    "\n",
    "    # Iterate until the final destination type is reached\n",
    "    while source_type != destination_type:\n",
    "        # Find the map corresponding to the current source type\n",
    "        current_map = next((map_data for map_data in maps if map_data['source_type'] == source_type), None)\n",
    "\n",
    "        if current_map is None:\n",
    "            # No matching map found\n",
    "            logging.info(f\"No matching map found for source type '{source_type=}'\")\n",
    "            return None\n",
    "\n",
    "        # Find the entry corresponding to the current value in the map\n",
    "        map_entry = next((entry for entry in current_map['map'] if entry['source_range_start'] <= current_value <= (entry['source_range_start'] + entry['range_length'])), None)\n",
    "\n",
    "        \n",
    "        if map_entry is None:\n",
    "            # No matching entry found, set destination value to be the same as source value\n",
    "            logging.info(f\"No matching entry found for source value '{current_value=}' in map for source type '{source_type=}'. Setting destination value to be the same.\")\n",
    "            current_value = current_value\n",
    "            source_type = destination_type  # Skip to the next type\n",
    "        \n",
    "        else:    \n",
    "            print(f'{map_entry=}\\n')\n",
    "            print(f'{current_value=}\\n')\n",
    "            delta = current_value - map_entry['source_range_start']\n",
    "            print(f'{delta=}\\n')\n",
    "            # Log the matching values\n",
    "            logging.info(f\"Matching values: source_type='{source_type}', current_value='{current_value}', destination_type='{map_entry['destination_type']}', new_value='{map_entry['destination_range_start']} + {delta=}'\")\n",
    "\n",
    "            # Update the current value and source type for the next iteration\n",
    "            current_value = map_entry['destination_range_start'] + delta\n",
    "            source_type = map_entry['destination_type']\n",
    "\n",
    "    return current_value"
   ]
  },
  {
   "cell_type": "code",
   "execution_count": 6,
   "id": "6db5adce-c4fc-4ca1-aae3-04e00fddfb49",
   "metadata": {
    "execution": {
     "iopub.execute_input": "2023-12-06T07:26:14.504393Z",
     "iopub.status.busy": "2023-12-06T07:26:14.504393Z",
     "iopub.status.idle": "2023-12-06T07:26:14.531318Z",
     "shell.execute_reply": "2023-12-06T07:26:14.530346Z",
     "shell.execute_reply.started": "2023-12-06T07:26:14.504393Z"
    },
    "tags": []
   },
   "outputs": [],
   "source": [
    "import logging\n",
    "from typing import List, Dict, Union\n",
    "\n",
    "# Configure logging\n",
    "logging.basicConfig(level=logging.INFO)\n",
    "\n",
    "def traverse_maps(seed: int, source_type: str, destination_type: str, maps: List[Dict[str, List[Dict[str, Union[int, str]]]]]) -> Union[int, None]:\n",
    "    \"\"\"\n",
    "    Traverse through the maps based on source_type and destination_type, moving to the next destination if no match is found.\n",
    "\n",
    "    Args:\n",
    "    - seed (int): The initial seed value.\n",
    "    - source_type (str): The initial source type.\n",
    "    - destination_type (str): The final destination type.\n",
    "    - maps (List[Dict[str, List[Dict[str, Union[int, str]]]]]): List of dictionaries representing maps.\n",
    "\n",
    "    Returns:\n",
    "    - Union[int, None]: The final value or None if the destination type is not found.\n",
    "\n",
    "    Example:\n",
    "    >>> seed_to_soil_map = [{'destination_range_start': 50, 'source_range_start': 98, 'range_length': 2, 'source_type': 'seed', 'destination_type': 'soil'}]\n",
    "    >>> maps_data = [{'source_type': 'seed', 'destination_type': 'soil', 'map': seed_to_soil_map}]\n",
    "    >>> traverse_maps(10, 'seed', 'location', maps_data)\n",
    "    52\n",
    "    \"\"\"\n",
    "    current_value = seed\n",
    "\n",
    "    # Iterate until the final destination type is reached\n",
    "    while source_type != destination_type:\n",
    "        # Find the map corresponding to the current source type\n",
    "        current_map = next((map_data for map_data in maps if map_data['source_type'] == source_type), None)\n",
    "\n",
    "        if current_map is None:\n",
    "            # No matching map found\n",
    "            logging.info(f\"No matching map found for source type {source_type=}\")\n",
    "            return None\n",
    "\n",
    "        # Find the entry corresponding to the current value in the map\n",
    "        map_entry = next((entry for entry in current_map['map'] if entry['source_range_start'] <= current_value <= (entry['source_range_start'] + entry['range_length'])), None)\n",
    "\n",
    "        if map_entry is None:\n",
    "            # No matching entry found, move to the next destination in the map\n",
    "            logging.info(f\"No matching entry found for source value {current_value=} in map for source type {source_type=}. Moving to the next destination.\")\n",
    "            \n",
    "            # Find the next destination in the map\n",
    "            next_destination_entry = next((map_data for map_data in maps if map_data['source_type'] == current_map['destination_type']), None)\n",
    "\n",
    "            if next_destination_entry is None and current_map['destination_type'] == destination_type:\n",
    "                # No next destination found, return None\n",
    "                logging.info(f\"No next destination found in map for source type {current_map['destination_type']=}.\")\n",
    "                source_type = destination_type\n",
    "\n",
    "            # Update the source type for the next iteration\n",
    "            else:\n",
    "                source_type = next_destination_entry['source_type']\n",
    "            logging.info(f'Moving on to source type {source_type}')\n",
    "                                    \n",
    "        else:\n",
    "            # Update the current value and source type for the next iteration\n",
    "            delta = current_value - map_entry['source_range_start']\n",
    "            \n",
    "            \n",
    "            # Logging before updating matching values\n",
    "            logging.info(f\"Matching values: {source_type=}, {current_value=}, destination_type={map_entry['destination_type']}, new_value={map_entry['destination_range_start']} + {delta=} = {map_entry['destination_range_start'] + delta}\")\n",
    "            \n",
    "            current_value = map_entry['destination_range_start'] + delta\n",
    "            source_type = map_entry['destination_type']\n",
    "\n",
    "            \n",
    "    return current_value"
   ]
  },
  {
   "cell_type": "code",
   "execution_count": 7,
   "id": "0b642dd9-ebb4-461c-b8e6-e3996e25db6b",
   "metadata": {
    "execution": {
     "iopub.execute_input": "2023-12-06T07:26:14.831946Z",
     "iopub.status.busy": "2023-12-06T07:26:14.831946Z",
     "iopub.status.idle": "2023-12-06T07:26:14.853887Z",
     "shell.execute_reply": "2023-12-06T07:26:14.852912Z",
     "shell.execute_reply.started": "2023-12-06T07:26:14.831946Z"
    },
    "tags": []
   },
   "outputs": [],
   "source": [
    "def get_seed_locations(seeds: List[int], processed_maps: List[Dict[str, List[Dict[str, Union[int, str]]]]], source_type: str = 'seed', destination_type: str = 'location') -> Dict[int, Union[int, None]]:\n",
    "    \"\"\"\n",
    "    Get the locations for each seed using the traverse_maps_with_defaults function.\n",
    "\n",
    "    Args:\n",
    "    - seeds (List[int]): List of seed values.\n",
    "    - processed_maps (List[Dict[str, List[Dict[str, Union[int, str]]]]]): List of dictionaries representing processed maps.\n",
    "    - source_type (str, optional): The initial source type. Defaults to 'seed'.\n",
    "    - destination_type (str, optional): The final destination type. Defaults to 'location'.\n",
    "\n",
    "    Returns:\n",
    "    - Dict[int, Union[int, None]]: A dictionary where keys are seed values and values are corresponding locations.\n",
    "    \"\"\"\n",
    "    seed_locations = {}\n",
    "\n",
    "    for seed in seeds:\n",
    "        location = traverse_maps(seed, source_type, destination_type, processed_maps)\n",
    "        seed_locations[seed] = location\n",
    "\n",
    "    return seed_locations"
   ]
  },
  {
   "cell_type": "code",
   "execution_count": 8,
   "id": "bcd01e26-2ada-4cb5-a393-252cde7afce5",
   "metadata": {
    "execution": {
     "iopub.execute_input": "2023-12-06T07:26:15.001784Z",
     "iopub.status.busy": "2023-12-06T07:26:15.001784Z",
     "iopub.status.idle": "2023-12-06T07:26:15.135401Z",
     "shell.execute_reply": "2023-12-06T07:26:15.134405Z",
     "shell.execute_reply.started": "2023-12-06T07:26:15.001784Z"
    },
    "scrolled": true,
    "tags": []
   },
   "outputs": [
    {
     "name": "stderr",
     "output_type": "stream",
     "text": [
      "INFO:root:Matching values: source_type='seed', current_value=2276375722, destination_type=soil, new_value=2745421185 + delta=38100697 = 2783521882\n",
      "INFO:root:Matching values: source_type='soil', current_value=2783521882, destination_type=fertilizer, new_value=1129998067 + delta=538597497 = 1668595564\n",
      "INFO:root:Matching values: source_type='fertilizer', current_value=1668595564, destination_type=water, new_value=1339983969 + delta=134198805 = 1474182774\n",
      "INFO:root:Matching values: source_type='water', current_value=1474182774, destination_type=light, new_value=500839409 + delta=7700992 = 508540401\n",
      "INFO:root:No matching entry found for source value current_value=508540401 in map for source type source_type='light'. Moving to the next destination.\n",
      "INFO:root:Moving on to source type temperature\n",
      "INFO:root:Matching values: source_type='temperature', current_value=508540401, destination_type=humidity, new_value=3733360236 + delta=64167573 = 3797527809\n",
      "INFO:root:Matching values: source_type='humidity', current_value=3797527809, destination_type=location, new_value=3849085050 + delta=179315487 = 4028400537\n",
      "INFO:root:No matching entry found for source value current_value=160148132 in map for source type source_type='seed'. Moving to the next destination.\n",
      "INFO:root:Moving on to source type soil\n",
      "INFO:root:No matching entry found for source value current_value=160148132 in map for source type source_type='soil'. Moving to the next destination.\n",
      "INFO:root:Moving on to source type fertilizer\n",
      "INFO:root:Matching values: source_type='fertilizer', current_value=160148132, destination_type=water, new_value=737041056 + delta=1113252 = 738154308\n",
      "INFO:root:Matching values: source_type='water', current_value=738154308, destination_type=light, new_value=2728303524 + delta=562078621 = 3290382145\n",
      "INFO:root:Matching values: source_type='light', current_value=3290382145, destination_type=temperature, new_value=843084177 + delta=14869122 = 857953299\n",
      "INFO:root:Matching values: source_type='temperature', current_value=857953299, destination_type=humidity, new_value=3865699521 + delta=45124111 = 3910823632\n",
      "INFO:root:Matching values: source_type='humidity', current_value=3910823632, destination_type=location, new_value=3849085050 + delta=292611310 = 4141696360\n",
      "INFO:root:Matching values: source_type='seed', current_value=3424292843, destination_type=soil, new_value=3192017325 + delta=490935264 = 3682952589\n",
      "INFO:root:Matching values: source_type='soil', current_value=3682952589, destination_type=fertilizer, new_value=285713733 + delta=78336009 = 364049742\n",
      "INFO:root:Matching values: source_type='fertilizer', current_value=364049742, destination_type=water, new_value=1063912487 + delta=100427393 = 1164339880\n",
      "INFO:root:Matching values: source_type='water', current_value=1164339880, destination_type=light, new_value=868834811 + delta=125699292 = 994534103\n",
      "INFO:root:Matching values: source_type='light', current_value=994534103, destination_type=temperature, new_value=526108840 + delta=6109887 = 532218727\n",
      "INFO:root:Matching values: source_type='temperature', current_value=532218727, destination_type=humidity, new_value=3733360236 + delta=87845899 = 3821206135\n",
      "INFO:root:Matching values: source_type='humidity', current_value=3821206135, destination_type=location, new_value=3849085050 + delta=202993813 = 4052078863\n",
      "INFO:root:No matching entry found for source value current_value=82110297 in map for source type source_type='seed'. Moving to the next destination.\n",
      "INFO:root:Moving on to source type soil\n",
      "INFO:root:No matching entry found for source value current_value=82110297 in map for source type source_type='soil'. Moving to the next destination.\n",
      "INFO:root:Moving on to source type fertilizer\n",
      "INFO:root:Matching values: source_type='fertilizer', current_value=82110297, destination_type=water, new_value=1898912715 + delta=82110297 = 1981023012\n",
      "INFO:root:Matching values: source_type='water', current_value=1981023012, destination_type=light, new_value=1445770163 + delta=487473680 = 1933243843\n",
      "INFO:root:Matching values: source_type='light', current_value=1933243843, destination_type=temperature, new_value=1333642604 + delta=401926404 = 1735569008\n",
      "INFO:root:Matching values: source_type='temperature', current_value=1735569008, destination_type=humidity, new_value=1870217811 + delta=48994629 = 1919212440\n",
      "INFO:root:Matching values: source_type='humidity', current_value=1919212440, destination_type=location, new_value=1732757471 + delta=305301765 = 2038059236\n",
      "INFO:root:Matching values: source_type='seed', current_value=1692203766, destination_type=soil, new_value=2212408060 + delta=98427092 = 2310835152\n",
      "INFO:root:Matching values: source_type='soil', current_value=2310835152, destination_type=fertilizer, new_value=1129998067 + delta=65910767 = 1195908834\n",
      "INFO:root:Matching values: source_type='fertilizer', current_value=1195908834, destination_type=water, new_value=1495738931 + delta=64685859 = 1560424790\n",
      "INFO:root:Matching values: source_type='water', current_value=1560424790, destination_type=light, new_value=1445770163 + delta=66875458 = 1512645621\n",
      "INFO:root:Matching values: source_type='light', current_value=1512645621, destination_type=temperature, new_value=4132690450 + delta=26321659 = 4159012109\n",
      "INFO:root:Matching values: source_type='temperature', current_value=4159012109, destination_type=humidity, new_value=445299830 + delta=220942993 = 666242823\n",
      "INFO:root:Matching values: source_type='humidity', current_value=666242823, destination_type=location, new_value=1172990519 + delta=193548552 = 1366539071\n",
      "INFO:root:No matching entry found for source value current_value=342813967 in map for source type source_type='seed'. Moving to the next destination.\n",
      "INFO:root:Moving on to source type soil\n",
      "INFO:root:Matching values: source_type='soil', current_value=342813967, destination_type=fertilizer, new_value=3338663639 + delta=57100234 = 3395763873\n",
      "INFO:root:Matching values: source_type='fertilizer', current_value=3395763873, destination_type=water, new_value=2916187764 + delta=19748317 = 2935936081\n",
      "INFO:root:Matching values: source_type='water', current_value=2935936081, destination_type=light, new_value=527906959 + delta=27759582 = 555666541\n",
      "INFO:root:Matching values: source_type='light', current_value=555666541, destination_type=temperature, new_value=3678927989 + delta=29557701 = 3708485690\n",
      "INFO:root:Matching values: source_type='temperature', current_value=3708485690, destination_type=humidity, new_value=4272587331 + delta=19994254 = 4292581585\n",
      "INFO:root:No matching entry found for source value current_value=4292581585 in map for source type source_type='humidity'. Moving to the next destination.\n",
      "INFO:root:No next destination found in map for source type current_map['destination_type']='location'.\n",
      "INFO:root:Moving on to source type location\n",
      "INFO:root:Matching values: source_type='seed', current_value=3289792522, destination_type=soil, new_value=3192017325 + delta=356434943 = 3548452268\n",
      "INFO:root:Matching values: source_type='soil', current_value=3548452268, destination_type=fertilizer, new_value=2067774073 + delta=26481947 = 2094256020\n",
      "INFO:root:Matching values: source_type='fertilizer', current_value=2094256020, destination_type=water, new_value=176481534 + delta=249139034 = 425620568\n",
      "INFO:root:Matching values: source_type='water', current_value=425620568, destination_type=light, new_value=2728303524 + delta=249544881 = 2977848405\n",
      "INFO:root:Matching values: source_type='light', current_value=2977848405, destination_type=temperature, new_value=3364444750 + delta=123529730 = 3487974480\n",
      "INFO:root:Matching values: source_type='temperature', current_value=3487974480, destination_type=humidity, new_value=318257809 + delta=15909261 = 334167070\n",
      "INFO:root:Matching values: source_type='humidity', current_value=334167070, destination_type=location, new_value=765942740 + delta=334167070 = 1100109810\n",
      "INFO:root:No matching entry found for source value current_value=103516087 in map for source type source_type='seed'. Moving to the next destination.\n",
      "INFO:root:Moving on to source type soil\n",
      "INFO:root:No matching entry found for source value current_value=103516087 in map for source type source_type='soil'. Moving to the next destination.\n",
      "INFO:root:Moving on to source type fertilizer\n",
      "INFO:root:Matching values: source_type='fertilizer', current_value=103516087, destination_type=water, new_value=1898912715 + delta=103516087 = 2002428802\n",
      "INFO:root:Matching values: source_type='water', current_value=2002428802, destination_type=light, new_value=1445770163 + delta=508879470 = 1954649633\n",
      "INFO:root:Matching values: source_type='light', current_value=1954649633, destination_type=temperature, new_value=1333642604 + delta=423332194 = 1756974798\n",
      "INFO:root:Matching values: source_type='temperature', current_value=1756974798, destination_type=humidity, new_value=1870217811 + delta=70400419 = 1940618230\n",
      "INFO:root:Matching values: source_type='humidity', current_value=1940618230, destination_type=location, new_value=1732757471 + delta=326707555 = 2059465026\n",
      "INFO:root:Matching values: source_type='seed', current_value=2590548294, destination_type=soil, new_value=2364748115 + delta=12187751 = 2376935866\n",
      "INFO:root:Matching values: source_type='soil', current_value=2376935866, destination_type=fertilizer, new_value=1129998067 + delta=132011481 = 1262009548\n",
      "INFO:root:Matching values: source_type='fertilizer', current_value=1262009548, destination_type=water, new_value=1495738931 + delta=130786573 = 1626525504\n",
      "INFO:root:Matching values: source_type='water', current_value=1626525504, destination_type=light, new_value=1445770163 + delta=132976172 = 1578746335\n",
      "INFO:root:Matching values: source_type='light', current_value=1578746335, destination_type=temperature, new_value=1333642604 + delta=47428896 = 1381071500\n",
      "INFO:root:Matching values: source_type='temperature', current_value=1381071500, destination_type=humidity, new_value=1036266109 + delta=80495185 = 1116761294\n",
      "INFO:root:Matching values: source_type='humidity', current_value=1116761294, destination_type=location, new_value=2192942437 + delta=88648028 = 2281590465\n",
      "INFO:root:No matching entry found for source value current_value=590357761 in map for source type source_type='seed'. Moving to the next destination.\n",
      "INFO:root:Moving on to source type soil\n",
      "INFO:root:Matching values: source_type='soil', current_value=590357761, destination_type=fertilizer, new_value=3338663639 + delta=304644028 = 3643307667\n",
      "INFO:root:Matching values: source_type='fertilizer', current_value=3643307667, destination_type=water, new_value=2588506032 + delta=30818885 = 2619324917\n",
      "INFO:root:Matching values: source_type='water', current_value=2619324917, destination_type=light, new_value=1445770163 + delta=1125775585 = 2571545748\n",
      "INFO:root:Matching values: source_type='light', current_value=2571545748, destination_type=temperature, new_value=3179108910 + delta=60814048 = 3239922958\n",
      "INFO:root:Matching values: source_type='temperature', current_value=3239922958, destination_type=humidity, new_value=4049237602 + delta=7283818 = 4056521420\n",
      "INFO:root:Matching values: source_type='humidity', current_value=4056521420, destination_type=location, new_value=2756408462 + delta=1974160 = 2758382622\n",
      "INFO:root:No matching entry found for source value current_value=1365412380 in map for source type source_type='seed'. Moving to the next destination.\n",
      "INFO:root:Moving on to source type soil\n",
      "INFO:root:Matching values: source_type='soil', current_value=1365412380, destination_type=fertilizer, new_value=2763248642 + delta=10010142 = 2773258784\n",
      "INFO:root:Matching values: source_type='fertilizer', current_value=2773258784, destination_type=water, new_value=3152660990 + delta=101521868 = 3254182858\n",
      "INFO:root:Matching values: source_type='water', current_value=3254182858, destination_type=light, new_value=3667992751 + delta=61209503 = 3729202254\n",
      "INFO:root:Matching values: source_type='light', current_value=3729202254, destination_type=temperature, new_value=2621973104 + delta=50374853 = 2672347957\n",
      "INFO:root:Matching values: source_type='temperature', current_value=2672347957, destination_type=humidity, new_value=1227926488 + delta=52208639 = 1280135127\n",
      "INFO:root:Matching values: source_type='humidity', current_value=1280135127, destination_type=location, new_value=2192942437 + delta=252021861 = 2444964298\n",
      "INFO:root:No matching entry found for source value current_value=80084180 in map for source type source_type='seed'. Moving to the next destination.\n",
      "INFO:root:Moving on to source type soil\n",
      "INFO:root:No matching entry found for source value current_value=80084180 in map for source type source_type='soil'. Moving to the next destination.\n",
      "INFO:root:Moving on to source type fertilizer\n",
      "INFO:root:Matching values: source_type='fertilizer', current_value=80084180, destination_type=water, new_value=1898912715 + delta=80084180 = 1978996895\n",
      "INFO:root:Matching values: source_type='water', current_value=1978996895, destination_type=light, new_value=1445770163 + delta=485447563 = 1931217726\n",
      "INFO:root:Matching values: source_type='light', current_value=1931217726, destination_type=temperature, new_value=1333642604 + delta=399900287 = 1733542891\n",
      "INFO:root:Matching values: source_type='temperature', current_value=1733542891, destination_type=humidity, new_value=1870217811 + delta=46968512 = 1917186323\n",
      "INFO:root:Matching values: source_type='humidity', current_value=1917186323, destination_type=location, new_value=1732757471 + delta=303275648 = 2036033119\n",
      "INFO:root:Matching values: source_type='seed', current_value=3574751516, destination_type=soil, new_value=1967924766 + delta=28412304 = 1996337070\n",
      "INFO:root:Matching values: source_type='soil', current_value=1996337070, destination_type=fertilizer, new_value=3950920796 + delta=95459185 = 4046379981\n",
      "INFO:root:Matching values: source_type='fertilizer', current_value=4046379981, destination_type=water, new_value=3953039676 + delta=5153185 = 3958192861\n",
      "INFO:root:Matching values: source_type='water', current_value=3958192861, destination_type=light, new_value=162818360 + delta=292063111 = 454881471\n",
      "INFO:root:No matching entry found for source value current_value=454881471 in map for source type source_type='light'. Moving to the next destination.\n",
      "INFO:root:Moving on to source type temperature\n",
      "INFO:root:Matching values: source_type='temperature', current_value=454881471, destination_type=humidity, new_value=3733360236 + delta=10508643 = 3743868879\n",
      "INFO:root:Matching values: source_type='humidity', current_value=3743868879, destination_type=location, new_value=3849085050 + delta=125656557 = 3974741607\n",
      "INFO:root:No matching entry found for source value current_value=584781136 in map for source type source_type='seed'. Moving to the next destination.\n",
      "INFO:root:Moving on to source type soil\n",
      "INFO:root:Matching values: source_type='soil', current_value=584781136, destination_type=fertilizer, new_value=3338663639 + delta=299067403 = 3637731042\n",
      "INFO:root:Matching values: source_type='fertilizer', current_value=3637731042, destination_type=water, new_value=2588506032 + delta=25242260 = 2613748292\n",
      "INFO:root:Matching values: source_type='water', current_value=2613748292, destination_type=light, new_value=1445770163 + delta=1120198960 = 2565969123\n",
      "INFO:root:Matching values: source_type='light', current_value=2565969123, destination_type=temperature, new_value=3179108910 + delta=55237423 = 3234346333\n",
      "INFO:root:Matching values: source_type='temperature', current_value=3234346333, destination_type=humidity, new_value=4049237602 + delta=1707193 = 4050944795\n",
      "INFO:root:Matching values: source_type='humidity', current_value=4050944795, destination_type=location, new_value=2729873863 + delta=22932134 = 2752805997\n",
      "INFO:root:Matching values: source_type='seed', current_value=4207087048, destination_type=soil, new_value=3837406401 + delta=190954525 = 4028360926\n",
      "INFO:root:Matching values: source_type='soil', current_value=4028360926, destination_type=fertilizer, new_value=285713733 + delta=423744346 = 709458079\n",
      "INFO:root:Matching values: source_type='fertilizer', current_value=709458079, destination_type=water, new_value=822014814 + delta=169764248 = 991779062\n",
      "INFO:root:Matching values: source_type='water', current_value=991779062, destination_type=light, new_value=2402633 + delta=85833058 = 88235691\n",
      "INFO:root:Matching values: source_type='light', current_value=88235691, destination_type=temperature, new_value=5553076 + delta=88235691 = 93788767\n",
      "INFO:root:No matching entry found for source value current_value=93788767 in map for source type source_type='temperature'. Moving to the next destination.\n",
      "INFO:root:Moving on to source type humidity\n",
      "INFO:root:Matching values: source_type='humidity', current_value=93788767, destination_type=location, new_value=765942740 + delta=93788767 = 859731507\n",
      "INFO:root:No matching entry found for source value current_value=36194356 in map for source type source_type='seed'. Moving to the next destination.\n",
      "INFO:root:Moving on to source type soil\n",
      "INFO:root:No matching entry found for source value current_value=36194356 in map for source type source_type='soil'. Moving to the next destination.\n",
      "INFO:root:Moving on to source type fertilizer\n",
      "INFO:root:Matching values: source_type='fertilizer', current_value=36194356, destination_type=water, new_value=1898912715 + delta=36194356 = 1935107071\n",
      "INFO:root:Matching values: source_type='water', current_value=1935107071, destination_type=light, new_value=1445770163 + delta=441557739 = 1887327902\n",
      "INFO:root:Matching values: source_type='light', current_value=1887327902, destination_type=temperature, new_value=1333642604 + delta=356010463 = 1689653067\n",
      "INFO:root:Matching values: source_type='temperature', current_value=1689653067, destination_type=humidity, new_value=1870217811 + delta=3078688 = 1873296499\n",
      "INFO:root:Matching values: source_type='humidity', current_value=1873296499, destination_type=location, new_value=1732757471 + delta=259385824 = 1992143295\n",
      "INFO:root:Matching values: source_type='seed', current_value=1515742281, destination_type=soil, new_value=3698488336 + delta=39975811 = 3738464147\n",
      "INFO:root:Matching values: source_type='soil', current_value=3738464147, destination_type=fertilizer, new_value=285713733 + delta=133847567 = 419561300\n",
      "INFO:root:Matching values: source_type='fertilizer', current_value=419561300, destination_type=water, new_value=1063912487 + delta=155938951 = 1219851438\n",
      "INFO:root:Matching values: source_type='water', current_value=1219851438, destination_type=light, new_value=868834811 + delta=181210850 = 1050045661\n",
      "INFO:root:Matching values: source_type='light', current_value=1050045661, destination_type=temperature, new_value=526108840 + delta=61621445 = 587730285\n",
      "INFO:root:Matching values: source_type='temperature', current_value=587730285, destination_type=humidity, new_value=3458990061 + delta=49271272 = 3508261333\n",
      "INFO:root:Matching values: source_type='humidity', current_value=3508261333, destination_type=location, new_value=156854744 + delta=327169127 = 484023871\n",
      "INFO:root:No matching entry found for source value current_value=174009980 in map for source type source_type='seed'. Moving to the next destination.\n",
      "INFO:root:Moving on to source type soil\n",
      "INFO:root:No matching entry found for source value current_value=174009980 in map for source type source_type='soil'. Moving to the next destination.\n",
      "INFO:root:Moving on to source type fertilizer\n",
      "INFO:root:Matching values: source_type='fertilizer', current_value=174009980, destination_type=water, new_value=737041056 + delta=14975100 = 752016156\n",
      "INFO:root:Matching values: source_type='water', current_value=752016156, destination_type=light, new_value=2728303524 + delta=575940469 = 3304243993\n",
      "INFO:root:Matching values: source_type='light', current_value=3304243993, destination_type=temperature, new_value=843084177 + delta=28730970 = 871815147\n",
      "INFO:root:Matching values: source_type='temperature', current_value=871815147, destination_type=humidity, new_value=3865699521 + delta=58985959 = 3924685480\n",
      "INFO:root:Matching values: source_type='humidity', current_value=3924685480, destination_type=location, new_value=3849085050 + delta=306473158 = 4155558208\n",
      "INFO:root:No matching entry found for source value current_value=6434225 in map for source type source_type='seed'. Moving to the next destination.\n",
      "INFO:root:Moving on to source type soil\n",
      "INFO:root:No matching entry found for source value current_value=6434225 in map for source type source_type='soil'. Moving to the next destination.\n",
      "INFO:root:Moving on to source type fertilizer\n",
      "INFO:root:Matching values: source_type='fertilizer', current_value=6434225, destination_type=water, new_value=1898912715 + delta=6434225 = 1905346940\n",
      "INFO:root:Matching values: source_type='water', current_value=1905346940, destination_type=light, new_value=1445770163 + delta=411797608 = 1857567771\n",
      "INFO:root:Matching values: source_type='light', current_value=1857567771, destination_type=temperature, new_value=1333642604 + delta=326250332 = 1659892936\n",
      "INFO:root:Matching values: source_type='temperature', current_value=1659892936, destination_type=humidity, new_value=2122934367 + delta=54658150 = 2177592517\n",
      "INFO:root:Matching values: source_type='humidity', current_value=2177592517, destination_type=location, new_value=593974860 + delta=103496876 = 697471736\n",
      "INFO:root:No matching entry found for source value current_value=291842774 in map for source type source_type='seed'. Moving to the next destination.\n",
      "INFO:root:Moving on to source type soil\n",
      "INFO:root:Matching values: source_type='soil', current_value=291842774, destination_type=fertilizer, new_value=3338663639 + delta=6129041 = 3344792680\n",
      "INFO:root:Matching values: source_type='fertilizer', current_value=3344792680, destination_type=water, new_value=2847762723 + delta=16529027 = 2864291750\n",
      "INFO:root:Matching values: source_type='water', current_value=2864291750, destination_type=light, new_value=3795108796 + delta=88209057 = 3883317853\n",
      "INFO:root:Matching values: source_type='light', current_value=3883317853, destination_type=temperature, new_value=2621973104 + delta=204490452 = 2826463556\n",
      "INFO:root:Matching values: source_type='temperature', current_value=2826463556, destination_type=humidity, new_value=2508087592 + delta=129289 = 2508216881\n",
      "INFO:root:Matching values: source_type='humidity', current_value=2508216881, destination_type=location, new_value=3056274757 + delta=262153360 = 3318428117\n"
     ]
    }
   ],
   "source": [
    "seed_locations = get_seed_locations(seeds, processed_maps)"
   ]
  },
  {
   "cell_type": "code",
   "execution_count": null,
   "id": "aa0ad993-cfb2-490f-a3f6-4667702a3708",
   "metadata": {
    "tags": []
   },
   "outputs": [],
   "source": [
    "seed_locations"
   ]
  },
  {
   "cell_type": "code",
   "execution_count": 10,
   "id": "7848590e-8045-4876-8266-3c8cff1754c4",
   "metadata": {
    "execution": {
     "iopub.execute_input": "2023-12-06T07:26:15.743213Z",
     "iopub.status.busy": "2023-12-06T07:26:15.743213Z",
     "iopub.status.idle": "2023-12-06T07:26:15.763143Z",
     "shell.execute_reply": "2023-12-06T07:26:15.762172Z",
     "shell.execute_reply.started": "2023-12-06T07:26:15.743213Z"
    },
    "tags": []
   },
   "outputs": [],
   "source": [
    "min_value = min(seed_locations.values())"
   ]
  },
  {
   "cell_type": "code",
   "execution_count": 11,
   "id": "8da6aedd-0dba-4c36-a61d-7d6b5d544ae5",
   "metadata": {
    "execution": {
     "iopub.execute_input": "2023-12-06T07:26:16.154626Z",
     "iopub.status.busy": "2023-12-06T07:26:16.153629Z",
     "iopub.status.idle": "2023-12-06T07:26:16.166593Z",
     "shell.execute_reply": "2023-12-06T07:26:16.165618Z",
     "shell.execute_reply.started": "2023-12-06T07:26:16.154626Z"
    },
    "tags": []
   },
   "outputs": [
    {
     "data": {
      "text/plain": [
       "484023871"
      ]
     },
     "execution_count": 11,
     "metadata": {},
     "output_type": "execute_result"
    }
   ],
   "source": [
    "min_value"
   ]
  },
  {
   "cell_type": "markdown",
   "id": "552e4700-89ef-4c45-884a-7b4da28a06f7",
   "metadata": {},
   "source": [
    "## Summary of part 1 from ChatGPT:\n",
    "\n",
    "prompt: `Great! We can now move on to the next part. Before we do so, can you summarize what we did and what you think the problem we had to solve was?`"
   ]
  },
  {
   "cell_type": "markdown",
   "id": "708a60fa-0648-4bae-80b8-eeb403b9d376",
   "metadata": {},
   "source": [
    "Certainly! Here's a summary of what we've done so far and the problem we've been addressing:\n",
    "Summary:\n",
    "\n",
    "    File Parsing Function:\n",
    "        Created a function parse_input_file that reads an input file containing information about seeds and various maps.\n",
    "        Extracted seed numbers and organized map data into a list of dictionaries.\n",
    "\n",
    "    Map Processing Function:\n",
    "        Implemented a function process_maps to add 'source_type' and 'destination_type' keys to the outer dictionary for each map.\n",
    "        Modified the function to add these keys to the outer dictionary instead of the inner.\n",
    "\n",
    "    Map Traversal Function:\n",
    "        Developed a function traverse_maps to navigate through maps based on source and destination types.\n",
    "        Added logging statements for debugging and tracking matching values during traversal.\n",
    "\n",
    "    Finding Minimum Value in Dictionary:\n",
    "        Provided code snippets to find the key corresponding to the minimum value in a dictionary.\n",
    "\n",
    "Problem Addressed:\n",
    "\n",
    "The problem we've been addressing involves processing an input file containing seed information and maps. The goal is to extract seed numbers and organize map data, then navigate through the maps based on source and destination types. Additionally, we needed to log information for debugging purposes and find the minimum value in a dictionary.\n",
    "\n",
    "Please let me know if there are specific aspects you'd like more details on or if you have any additional questions!"
   ]
  },
  {
   "cell_type": "markdown",
   "id": "7b39b223-c330-4922-9820-84bf06c9df3c",
   "metadata": {},
   "source": [
    "# Part Two\n",
    "\n",
    "Everyone will starve if you only plant such a small number of seeds. Re-reading the almanac, it looks like the seeds: line actually describes ranges of seed numbers.\n",
    "\n",
    "The values on the initial seeds: line come in pairs. Within each pair, the first value is the start of the range and the second value is the length of the range. So, in the first line of the example above:\n",
    "\n",
    "seeds: 79 14 55 13\n",
    "\n",
    "This line describes two ranges of seed numbers to be planted in the garden. The first range starts with seed number 79 and contains 14 values: 79, 80, ..., 91, 92. The second range starts with seed number 55 and contains 13 values: 55, 56, ..., 66, 67.\n",
    "\n",
    "Now, rather than considering four seed numbers, you need to consider a total of 27 seed numbers.\n",
    "\n",
    "In the above example, the lowest location number can be obtained from seed number 82, which corresponds to soil 84, fertilizer 84, water 84, light 77, temperature 45, humidity 46, and location 46. So, the lowest location number is 46.\n",
    "\n",
    "Consider all of the initial seed numbers listed in the ranges on the first line of the almanac. What is the lowest location number that corresponds to any of the initial seed numbers?\n"
   ]
  },
  {
   "cell_type": "code",
   "execution_count": 29,
   "id": "3907c45c-aafc-4659-b8ae-968e7df9ac56",
   "metadata": {
    "execution": {
     "iopub.execute_input": "2023-12-06T07:27:26.259334Z",
     "iopub.status.busy": "2023-12-06T07:27:26.259334Z",
     "iopub.status.idle": "2023-12-06T07:27:26.280278Z",
     "shell.execute_reply": "2023-12-06T07:27:26.279306Z",
     "shell.execute_reply.started": "2023-12-06T07:27:26.259334Z"
    },
    "tags": []
   },
   "outputs": [],
   "source": [
    "from typing import List, Dict, Union\n",
    "\n",
    "def generate_additional_maps(seeds: List[int]) -> List[Dict[str, Union[str, List[Dict[str, Union[int, str]]]]]]:\n",
    "    \"\"\"\n",
    "    Generate additional maps based on the seed values.\n",
    "\n",
    "    Args:\n",
    "    - seeds (List[int]): List of seed values.\n",
    "\n",
    "    Returns:\n",
    "    - List[Dict[str, Union[str, List[Dict[str, Union[int, str]]]]]]: List of dictionaries representing additional maps.\n",
    "\n",
    "    Example:\n",
    "    >>> generate_additional_maps([10, 20, 30])\n",
    "    [{'source_type': 'start', 'destination_type': 'soil', 'map': [{'destination_range_start': 10, 'source_range_start': 10, 'range_length': 1, 'source_type': 'start', 'destination_type': 'soil'}, {'destination_range_start': 11, 'source_range_start': 10, 'range_length': 1, 'source_type': 'start', 'destination_type': 'soil'}, ...]}]\n",
    "    \"\"\"\n",
    "    additional_maps = []\n",
    "\n",
    "    for seed in seeds:\n",
    "        # Create a map for each seed value\n",
    "        seed_map = [{'destination_range_start': seed + i, 'source_range_start': seed, 'range_length': 1, 'source_type': 'start', 'destination_type': 'seed'} for i in range(seed, seed + 1)]\n",
    "        \n",
    "        additional_maps.append(seed_map[0])\n",
    "\n",
    "    return {'source_type': 'start', 'destination_type': 'seed', 'map': additional_maps}"
   ]
  },
  {
   "cell_type": "code",
   "execution_count": 13,
   "id": "f071e907-a2ee-4077-8c2f-1c9dba3c6658",
   "metadata": {
    "execution": {
     "iopub.execute_input": "2023-12-06T07:26:17.525734Z",
     "iopub.status.busy": "2023-12-06T07:26:17.524735Z",
     "iopub.status.idle": "2023-12-06T07:26:17.534709Z",
     "shell.execute_reply": "2023-12-06T07:26:17.533711Z",
     "shell.execute_reply.started": "2023-12-06T07:26:17.525734Z"
    },
    "tags": []
   },
   "outputs": [],
   "source": [
    "additional_maps = generate_additional_maps(seeds)"
   ]
  },
  {
   "cell_type": "code",
   "execution_count": 14,
   "id": "772dd23f-1afc-4c63-b08d-285419ceecb9",
   "metadata": {
    "execution": {
     "iopub.execute_input": "2023-12-06T07:26:17.809118Z",
     "iopub.status.busy": "2023-12-06T07:26:17.809118Z",
     "iopub.status.idle": "2023-12-06T07:26:17.814103Z",
     "shell.execute_reply": "2023-12-06T07:26:17.813105Z",
     "shell.execute_reply.started": "2023-12-06T07:26:17.809118Z"
    },
    "tags": []
   },
   "outputs": [],
   "source": [
    "import copy"
   ]
  },
  {
   "cell_type": "code",
   "execution_count": 15,
   "id": "b5083097-e20f-4f9f-85af-32d9724421cb",
   "metadata": {
    "execution": {
     "iopub.execute_input": "2023-12-06T07:26:18.011647Z",
     "iopub.status.busy": "2023-12-06T07:26:18.010672Z",
     "iopub.status.idle": "2023-12-06T07:26:18.031607Z",
     "shell.execute_reply": "2023-12-06T07:26:18.030614Z",
     "shell.execute_reply.started": "2023-12-06T07:26:18.011647Z"
    },
    "tags": []
   },
   "outputs": [],
   "source": [
    "additional_processed_maps = copy.deepcopy(processed_maps)"
   ]
  },
  {
   "cell_type": "code",
   "execution_count": 16,
   "id": "47cbdfea-38a1-4a46-87e2-161251919e2d",
   "metadata": {
    "execution": {
     "iopub.execute_input": "2023-12-06T07:26:18.192111Z",
     "iopub.status.busy": "2023-12-06T07:26:18.192111Z",
     "iopub.status.idle": "2023-12-06T07:26:18.205075Z",
     "shell.execute_reply": "2023-12-06T07:26:18.204079Z",
     "shell.execute_reply.started": "2023-12-06T07:26:18.192111Z"
    },
    "tags": []
   },
   "outputs": [],
   "source": [
    "additional_processed_maps = [additional_maps, *additional_processed_maps]"
   ]
  },
  {
   "cell_type": "code",
   "execution_count": 18,
   "id": "cde74b68-8f50-48e0-906d-8468937f92ab",
   "metadata": {
    "execution": {
     "iopub.execute_input": "2023-12-06T07:26:20.242023Z",
     "iopub.status.busy": "2023-12-06T07:26:20.242023Z",
     "iopub.status.idle": "2023-12-06T07:26:20.250004Z",
     "shell.execute_reply": "2023-12-06T07:26:20.249003Z",
     "shell.execute_reply.started": "2023-12-06T07:26:20.242023Z"
    },
    "tags": []
   },
   "outputs": [],
   "source": [
    "from typing import List\n",
    "\n",
    "def is_seed_in_true_seeds(seed_list: List[int], target_seed: int) -> bool:\n",
    "    \"\"\"\n",
    "    Check if an arbitrary seed number would be contained in the true seeds.\n",
    "\n",
    "    Args:\n",
    "    - seed_list (List[int]): The initial list of seeds with ranges.\n",
    "    - target_seed (int): The seed number to check.\n",
    "\n",
    "    Returns:\n",
    "    - bool: True if the target seed is in the true seeds, False otherwise.\n",
    "\n",
    "    Example:\n",
    "    >>> is_seed_in_true_seeds([10, 3, 20, 5], 15)\n",
    "    True\n",
    "    >>> is_seed_in_true_seeds([10, 3, 20, 5], 25)\n",
    "    False\n",
    "    \"\"\"\n",
    "    for i in range(0, len(seed_list), 2):\n",
    "        seed_value = seed_list[i]\n",
    "        range_value = seed_list[i + 1]\n",
    "\n",
    "        if seed_value <= target_seed < seed_value + range_value:\n",
    "            return True\n",
    "\n",
    "    return False"
   ]
  },
  {
   "cell_type": "code",
   "execution_count": 19,
   "id": "3688d256-7a4d-41e2-ae7d-3fd4bfe8b5cd",
   "metadata": {
    "execution": {
     "iopub.execute_input": "2023-12-06T07:26:20.392625Z",
     "iopub.status.busy": "2023-12-06T07:26:20.392625Z",
     "iopub.status.idle": "2023-12-06T07:26:20.406589Z",
     "shell.execute_reply": "2023-12-06T07:26:20.405590Z",
     "shell.execute_reply.started": "2023-12-06T07:26:20.392625Z"
    },
    "scrolled": true,
    "tags": []
   },
   "outputs": [],
   "source": [
    "source_starts = set()\n",
    "for map_type in additional_processed_maps:\n",
    "    for map_detail in map_type['map']:\n",
    "        for entry in map_detail:\n",
    "            source_starts.add(map_detail['source_range_start'])\n",
    "            source_starts.add(map_detail['source_range_start'] + map_detail['range_length'])\n",
    "            source_starts.add(map_detail['source_range_start'] + map_detail['range_length'] + 1)\n",
    "            source_starts.add(map_detail['destination_range_start'])\n",
    "            source_starts.add(map_detail['destination_range_start'] + map_detail['range_length'])\n",
    "            source_starts.add(map_detail['destination_range_start'] + map_detail['range_length'] + 1)\n",
    "source_starts = [start for start in source_starts if is_seed_in_true_seeds(seeds, start)]"
   ]
  },
  {
   "cell_type": "code",
   "execution_count": 20,
   "id": "16468b57-a7d3-43c9-b765-6605b45dafc9",
   "metadata": {
    "execution": {
     "iopub.execute_input": "2023-12-06T07:26:22.067691Z",
     "iopub.status.busy": "2023-12-06T07:26:22.066666Z",
     "iopub.status.idle": "2023-12-06T07:26:22.077636Z",
     "shell.execute_reply": "2023-12-06T07:26:22.076663Z",
     "shell.execute_reply.started": "2023-12-06T07:26:22.067691Z"
    },
    "tags": []
   },
   "outputs": [],
   "source": [
    "for handler in logging.root.handlers[:]:\n",
    "    logging.root.removeHandler(handler)\n",
    "logging.basicConfig(level=logging.WARNING)"
   ]
  },
  {
   "cell_type": "code",
   "execution_count": 21,
   "id": "c538236d-5da9-4afb-b907-030726b47700",
   "metadata": {
    "execution": {
     "iopub.execute_input": "2023-12-06T07:26:24.355504Z",
     "iopub.status.busy": "2023-12-06T07:26:24.355504Z",
     "iopub.status.idle": "2023-12-06T07:26:24.388417Z",
     "shell.execute_reply": "2023-12-06T07:26:24.387419Z",
     "shell.execute_reply.started": "2023-12-06T07:26:24.355504Z"
    },
    "scrolled": true,
    "tags": []
   },
   "outputs": [],
   "source": [
    "seed_locations = get_seed_locations(source_starts, additional_processed_maps, 'start', 'location')"
   ]
  },
  {
   "cell_type": "code",
   "execution_count": 22,
   "id": "a04af435-365f-4d53-b163-d2d6284d3f7a",
   "metadata": {
    "execution": {
     "iopub.execute_input": "2023-12-06T07:26:27.136156Z",
     "iopub.status.busy": "2023-12-06T07:26:27.136156Z",
     "iopub.status.idle": "2023-12-06T07:26:27.609881Z",
     "shell.execute_reply": "2023-12-06T07:26:27.609881Z",
     "shell.execute_reply.started": "2023-12-06T07:26:27.136156Z"
    },
    "tags": []
   },
   "outputs": [],
   "source": [
    "import pandas as pd"
   ]
  },
  {
   "cell_type": "code",
   "execution_count": 24,
   "id": "467014d3-abef-4180-8f48-413cd54ecd8c",
   "metadata": {
    "execution": {
     "iopub.execute_input": "2023-12-06T07:26:30.349100Z",
     "iopub.status.busy": "2023-12-06T07:26:30.349100Z",
     "iopub.status.idle": "2023-12-06T07:26:30.358077Z",
     "shell.execute_reply": "2023-12-06T07:26:30.357079Z",
     "shell.execute_reply.started": "2023-12-06T07:26:30.349100Z"
    },
    "tags": []
   },
   "outputs": [],
   "source": [
    "seed_locations_df = pd.DataFrame(list(seed_locations.items()), columns=['seed', 'location'])"
   ]
  },
  {
   "cell_type": "code",
   "execution_count": 25,
   "id": "4462b933-6cda-4f3c-8bde-24d6cb806193",
   "metadata": {
    "execution": {
     "iopub.execute_input": "2023-12-06T07:26:30.578348Z",
     "iopub.status.busy": "2023-12-06T07:26:30.578348Z",
     "iopub.status.idle": "2023-12-06T07:26:30.589318Z",
     "shell.execute_reply": "2023-12-06T07:26:30.588343Z",
     "shell.execute_reply.started": "2023-12-06T07:26:30.578348Z"
    },
    "tags": []
   },
   "outputs": [],
   "source": [
    "seed_locations_df['in_true_seeds'] = seed_locations_df['seed'].apply(lambda x: is_seed_in_true_seeds(seeds, x))"
   ]
  },
  {
   "cell_type": "code",
   "execution_count": 28,
   "id": "44a4b2c1-65d5-40bf-b7f8-ba1530b36de7",
   "metadata": {
    "execution": {
     "iopub.execute_input": "2023-12-06T07:27:13.116223Z",
     "iopub.status.busy": "2023-12-06T07:27:13.116223Z",
     "iopub.status.idle": "2023-12-06T07:27:13.133179Z",
     "shell.execute_reply": "2023-12-06T07:27:13.132182Z",
     "shell.execute_reply.started": "2023-12-06T07:27:13.116223Z"
    },
    "tags": []
   },
   "outputs": [
    {
     "data": {
      "text/plain": [
       "46294175"
      ]
     },
     "execution_count": 28,
     "metadata": {},
     "output_type": "execute_result"
    }
   ],
   "source": [
    "seed_locations_df[seed_locations_df['in_true_seeds'] == 1].sort_values('location').iloc[0]['location']"
   ]
  },
  {
   "cell_type": "markdown",
   "id": "144fbad8-3a5b-4900-9b19-93f38d887c6d",
   "metadata": {},
   "source": [
    "## Summary of part 2 from ChatGPT\n",
    "\n",
    "Didn't really use ChatGPT as much for this part. It did not return a meaningful summary in this case"
   ]
  },
  {
   "cell_type": "code",
   "execution_count": null,
   "id": "b1cd98b2-b7e9-48a3-9523-bd535343bfd2",
   "metadata": {},
   "outputs": [],
   "source": []
  }
 ],
 "metadata": {
  "kernelspec": {
   "display_name": "Python 3 (ipykernel)",
   "language": "python",
   "name": "python3"
  },
  "language_info": {
   "codemirror_mode": {
    "name": "ipython",
    "version": 3
   },
   "file_extension": ".py",
   "mimetype": "text/x-python",
   "name": "python",
   "nbconvert_exporter": "python",
   "pygments_lexer": "ipython3",
   "version": "3.9.7"
  }
 },
 "nbformat": 4,
 "nbformat_minor": 5
}
