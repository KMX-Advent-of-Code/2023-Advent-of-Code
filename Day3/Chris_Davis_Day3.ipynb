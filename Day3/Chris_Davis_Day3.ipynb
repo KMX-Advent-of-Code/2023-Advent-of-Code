{
 "cells": [
  {
   "cell_type": "markdown",
   "id": "bdecd7bd-2d83-476d-b1d8-a05bb5e913bc",
   "metadata": {},
   "source": [
    "# Day 3: Gear Ratios\n",
    "\n",
    "You and the Elf eventually reach a gondola lift station; he says the gondola lift will take you up to the water source, but this is as far as he can bring you. You go inside.\n",
    "\n",
    "It doesn't take long to find the gondolas, but there seems to be a problem: they're not moving.\n",
    "\n",
    "\"Aaah!\"\n",
    "\n",
    "You turn around to see a slightly-greasy Elf with a wrench and a look of surprise. \"Sorry, I wasn't expecting anyone! The gondola lift isn't working right now; it'll still be a while before I can fix it.\" You offer to help.\n",
    "\n",
    "The engineer explains that an engine part seems to be missing from the engine, but nobody can figure out which one. If you can add up all the part numbers in the engine schematic, it should be easy to work out which part is missing.\n",
    "\n",
    "The engine schematic (your puzzle input) consists of a visual representation of the engine. There are lots of numbers and symbols you don't really understand, but apparently any number adjacent to a symbol, even diagonally, is a \"part number\" and should be included in your sum. (Periods (.) do not count as a symbol.)\n",
    "\n",
    "Here is an example engine schematic:\n",
    "\n",
    "```\n",
    "467..114..\n",
    "...*......\n",
    "..35..633.\n",
    "......#...\n",
    "617*......\n",
    ".....+.58.\n",
    "..592.....\n",
    "......755.\n",
    "...$.*....\n",
    ".664.598..\n",
    "```\n",
    "\n",
    "In this schematic, two numbers are not part numbers because they are not adjacent to a symbol: 114 (top right) and 58 (middle right). Every other number is adjacent to a symbol and so is a part number; their sum is 4361.\n",
    "\n",
    "Of course, the actual engine schematic is much larger. What is the sum of all of the part numbers in the engine schematic?"
   ]
  },
  {
   "cell_type": "code",
   "execution_count": null,
   "id": "280d220e-4acc-4100-93e1-abbc56a3e436",
   "metadata": {
    "scrolled": true,
    "tags": []
   },
   "outputs": [],
   "source": [
    "from typing import List\n",
    "\n",
    "def read_input_file(file_path: str) -> List[str]:\n",
    "    \"\"\"\n",
    "    Read lines from an input file and return a list of strings (without '\\n' characters).\n",
    "\n",
    "    Parameters:\n",
    "    - file_path (str): The path to the input file.\n",
    "\n",
    "    Returns:\n",
    "    - List[str]: A list of strings, where each string corresponds to a line in the file.\n",
    "    \"\"\"\n",
    "    try:\n",
    "        with open(file_path, 'r') as file:\n",
    "            lines = file.readlines()\n",
    "\n",
    "        # Remove '\\n' characters from each line\n",
    "        lines = [line.strip('\\n') for line in lines]\n",
    "\n",
    "        return lines\n",
    "    except FileNotFoundError:\n",
    "        raise FileNotFoundError(f\"The file at '{file_path}' does not exist.\")\n",
    "    except Exception as e:\n",
    "        raise Exception(f\"An error occurred while reading the file: {e}\")\n",
    "\n",
    "# Example usage:\n",
    "# Example usage:\n",
    "file_path = \"Chris_Davis_input_day3.txt\"\n",
    "lines = read_input_file(file_path)\n",
    "print(lines)"
   ]
  },
  {
   "cell_type": "code",
   "execution_count": null,
   "id": "38b86bee-4eb1-4838-b81b-1be3d11ad5dd",
   "metadata": {
    "tags": []
   },
   "outputs": [],
   "source": [
    "from typing import List\n",
    "\n",
    "def record_symbol_positions(line: str) -> List[int]:\n",
    "    \"\"\"\n",
    "    Record the position numbers of characters that are not numbers or '.' in a given line.\n",
    "\n",
    "    Parameters:\n",
    "    - line (str): The input line.\n",
    "\n",
    "    Returns:\n",
    "    - List[int]: A list of position numbers for symbols in the line.\n",
    "    \"\"\"\n",
    "    symbol_positions = []\n",
    "    for i, char in enumerate(line):\n",
    "        if not (char.isdigit() or char == '.'):\n",
    "            symbol_positions.append(i)\n",
    "    return symbol_positions\n",
    "\n",
    "# Example usage:\n",
    "input_line = \"...2...*...\\//..$\"\n",
    "positions = record_symbol_positions(input_line)\n",
    "print(positions)\n"
   ]
  },
  {
   "cell_type": "markdown",
   "id": "a07a38c6-b478-4db3-af03-2dedd1fdb32f",
   "metadata": {},
   "source": [
    "Chris Note: There is a concern if there are `\\\\` characters in the input file. It does not seem that there are any in this input though. I probably could write a check... but I won't"
   ]
  },
  {
   "cell_type": "code",
   "execution_count": null,
   "id": "bec16099-eee2-4594-ba17-57cb8c38bc61",
   "metadata": {
    "scrolled": true,
    "tags": []
   },
   "outputs": [],
   "source": [
    "from typing import List, Dict\n",
    "\n",
    "def get_symbol_positions_for_lines(lines: List[str]) -> Dict[int, List[int]]:\n",
    "    \"\"\"\n",
    "    Loop over a list of strings and return a dictionary of line numbers and their symbol positions.\n",
    "\n",
    "    Parameters:\n",
    "    - lines (List[str]): A list of strings.\n",
    "\n",
    "    Returns:\n",
    "    - Dict[int, List[int]]: A dictionary where keys are line numbers and values are lists of symbol positions.\n",
    "    \"\"\"\n",
    "    symbol_positions_dict = {}\n",
    "\n",
    "    for line_number, line in enumerate(lines):\n",
    "        symbol_positions = record_symbol_positions(line)\n",
    "        symbol_positions_dict[line_number] = symbol_positions\n",
    "\n",
    "    return symbol_positions_dict\n",
    "\n",
    "# Example usage:\n",
    "file_path = \"Chris_Davis_input_day3.txt\"\n",
    "lines = read_input_file(file_path)\n",
    "symbol_positions_dict = get_symbol_positions_for_lines(lines)\n",
    "\n",
    "# Print the result\n",
    "for line_number, positions in symbol_positions_dict.items():\n",
    "    print(f\"Line {line_number}: {positions}\")"
   ]
  },
  {
   "cell_type": "code",
   "execution_count": null,
   "id": "afd09593-0ba6-4a80-aa20-401c7037d9f6",
   "metadata": {},
   "outputs": [],
   "source": [
    "lines[0]"
   ]
  },
  {
   "cell_type": "code",
   "execution_count": null,
   "id": "b9f7dc27-43b9-4da8-8267-3a64af628714",
   "metadata": {},
   "outputs": [],
   "source": [
    "from typing import List, Dict\n",
    "\n",
    "def record_numbers_positions(line: str) -> List[Dict[str, int]]:\n",
    "    \"\"\"\n",
    "    Record the starting and ending positions of numbers in a given line.\n",
    "\n",
    "    Parameters:\n",
    "    - line (str): The input line.\n",
    "\n",
    "    Returns:\n",
    "    - List[Dict[str, int]]: A list of dictionaries, each containing 'number', 'start', and 'end'.\n",
    "    \"\"\"\n",
    "    numbers_positions = []\n",
    "    start = None\n",
    "\n",
    "    for i, char in enumerate(line):\n",
    "        if char.isdigit():\n",
    "            if start is None:\n",
    "                start = i\n",
    "        elif start is not None:\n",
    "            end = i - 1\n",
    "            number = int(line[start:end + 1])\n",
    "            numbers_positions.append({'number': number, 'start': start, 'end': end})\n",
    "            start = None\n",
    "\n",
    "    # Check if a number extends to the end of the line\n",
    "    if start is not None:\n",
    "        end = len(line) - 1\n",
    "        number = int(line[start:end + 1])\n",
    "        numbers_positions.append({'number': number, 'start': start, 'end': end})\n",
    "\n",
    "    return numbers_positions\n",
    "\n",
    "# Example usage:\n",
    "input_line = \"1001...42..1\"\n",
    "positions = record_numbers_positions(input_line)\n",
    "print(positions)\n"
   ]
  },
  {
   "cell_type": "code",
   "execution_count": null,
   "id": "5cd5f785-2375-4b7d-a8bf-51cb365edee0",
   "metadata": {
    "tags": []
   },
   "outputs": [],
   "source": [
    "from typing import List, Dict\n",
    "\n",
    "def get_number_positions_for_lines(lines: List[str]) -> Dict[int, List[Dict[str, int]]]:\n",
    "    \"\"\"\n",
    "    Loop over a list of strings and return a dictionary of line numbers and their number positions.\n",
    "\n",
    "    Parameters:\n",
    "    - lines (List[str]): A list of strings.\n",
    "\n",
    "    Returns:\n",
    "    - Dict[int, List[Dict[str, int]]]: A dictionary where keys are line numbers and values are lists of number positions.\n",
    "    \"\"\"\n",
    "    number_positions_dict = {}\n",
    "\n",
    "    for line_number, line in enumerate(lines):\n",
    "        number_positions = record_numbers_positions(line)\n",
    "        number_positions_dict[line_number] = number_positions\n",
    "\n",
    "    return number_positions_dict\n",
    "\n",
    "number_positions_dict = get_number_positions_for_lines(lines)\n",
    "\n",
    "# Print the result\n",
    "for line_number, positions in number_positions_dict.items():\n",
    "    print(f\"Line {line_number}: {positions}\")"
   ]
  },
  {
   "cell_type": "code",
   "execution_count": null,
   "id": "36c355e0-4f64-45c6-8c52-0211165bf3ed",
   "metadata": {
    "tags": []
   },
   "outputs": [],
   "source": [
    "symbol_positions_dict[1]"
   ]
  },
  {
   "cell_type": "code",
   "execution_count": null,
   "id": "ce075ffa-b9aa-402c-9cb4-b4028b9f592c",
   "metadata": {
    "tags": []
   },
   "outputs": [],
   "source": [
    "number_positions_dict[0]"
   ]
  },
  {
   "cell_type": "code",
   "execution_count": null,
   "id": "60b99a15-acc8-40ad-9e88-eb3e6330c85c",
   "metadata": {
    "tags": []
   },
   "outputs": [],
   "source": [
    "from typing import Dict, List\n",
    "\n",
    "def check_same_row_adjacency(number_position: Dict[str, int], symbol_positions: List[int]) -> bool:\n",
    "    \"\"\"\n",
    "    Check for same-row adjacency by examining symbol positions before and after a number.\n",
    "\n",
    "    Parameters:\n",
    "    - number_position (Dict[str, int]): A dictionary containing 'number', 'start', and 'end' positions.\n",
    "    - symbol_positions (List[int]): A list of symbol positions.\n",
    "\n",
    "    Returns:\n",
    "    - bool: True if symbols appear in positions immediately before the start or after the end of the number, False otherwise.\n",
    "    \"\"\"\n",
    "    start = number_position['start']\n",
    "    end = number_position['end']\n",
    "\n",
    "    # Check if symbols appear before the start of the number\n",
    "    if start > 0 and (start - 1) in symbol_positions:\n",
    "        return True\n",
    "\n",
    "    # Check if symbols appear after the end of the number\n",
    "    if end + 1 in symbol_positions:\n",
    "        return True\n",
    "\n",
    "    return False\n",
    "\n",
    "# Example usage:\n",
    "number_position = {'number': 612, 'start': 42, 'end': 44}\n",
    "symbol_positions = [13, 47, 57, 68, 76, 83, 87, 99, 114, 128, 131]\n",
    "\n",
    "result = check_same_row_adjacency(number_position, symbol_positions)\n",
    "print(result)\n"
   ]
  },
  {
   "cell_type": "code",
   "execution_count": null,
   "id": "f4c60df1-9f18-4316-888e-cbd80f9c0b6e",
   "metadata": {
    "tags": []
   },
   "outputs": [],
   "source": [
    "from typing import Dict, List\n",
    "\n",
    "def check_above_below_row_adjacency(number_position: Dict[str, int], symbol_positions: List[int]) -> bool:\n",
    "    \"\"\"\n",
    "    Check for adjacency above or below the row by examining if any number between start-1 and end+1 is contained in the symbol positions.\n",
    "\n",
    "    Parameters:\n",
    "    - number_position (Dict[str, int]): A dictionary containing 'number', 'start', and 'end' positions.\n",
    "    - symbol_positions (List[int]): A list of symbol positions.\n",
    "\n",
    "    Returns:\n",
    "    - bool: True if any number between start-1 and end+1 is contained in the symbol positions, False otherwise.\n",
    "    \"\"\"\n",
    "    start = number_position['start']\n",
    "    end = number_position['end']\n",
    "\n",
    "    # Check if any number between start-1 and end+1 is contained in the symbol positions\n",
    "    for num in range(start - 1, end + 2):\n",
    "        if num in symbol_positions:\n",
    "            return True\n",
    "\n",
    "    return False\n",
    "\n",
    "# Example usage:\n",
    "number_position = {'number': 612, 'start': 42, 'end': 44}\n",
    "symbol_positions = [13, 45, 57, 68, 76, 83, 87, 99, 114, 128, 131]\n",
    "\n",
    "result = check_above_below_row_adjacency(number_position, symbol_positions)\n",
    "print(result)\n"
   ]
  },
  {
   "cell_type": "markdown",
   "id": "1a71c01e-d037-4805-b0d2-fe4da5c460d2",
   "metadata": {},
   "source": [
    "Chris caveat: this code will not work for arbitrary input for above/below row symbols. I should have the checks ignored when there is no existing row above/below, but this is sufficient with the input we have"
   ]
  },
  {
   "cell_type": "code",
   "execution_count": null,
   "id": "46cda4b6-b6a6-4ba3-873c-ad5a597851f2",
   "metadata": {
    "tags": []
   },
   "outputs": [],
   "source": [
    "from typing import Dict, List\n",
    "\n",
    "def calculate_adjacent_numbers_sum(number_positions_dict: Dict[int, List[Dict[str, int]]], symbol_positions_dict: Dict[int, List[int]], testing_mode: bool = False) -> int:\n",
    "    \"\"\"\n",
    "    Calculate the sum of numbers that have adjacent symbols in the same row, above row, or below row.\n",
    "\n",
    "    Parameters:\n",
    "    - number_positions_dict (Dict[int, List[Dict[str, int]]]): A dictionary where keys are line numbers and values are lists of number positions.\n",
    "    - symbol_positions_dict (Dict[int, List[int]]): A dictionary where keys are line numbers and values are lists of symbol positions.\n",
    "    - testing_mode (bool, optional): If True, print messages each time a number is added to the sum. Default is False.\n",
    "\n",
    "    Returns:\n",
    "    - int: The sum of numbers that have adjacent symbols.\n",
    "    \"\"\"\n",
    "    total_sum = 0\n",
    "\n",
    "    for row, number_positions in number_positions_dict.items():\n",
    "        above_row_symbols = symbol_positions_dict[max(row - 1, 0)]\n",
    "        below_row_symbols = symbol_positions_dict[min(row + 1, max(symbol_positions_dict.keys()))]\n",
    "        same_row_symbols = symbol_positions_dict[row]\n",
    "\n",
    "        for number_position in number_positions:\n",
    "            if (\n",
    "                check_same_row_adjacency(number_position, same_row_symbols) or\n",
    "                check_above_below_row_adjacency(number_position, above_row_symbols) or\n",
    "                check_above_below_row_adjacency(number_position, below_row_symbols)\n",
    "            ):\n",
    "                total_sum += number_position['number']\n",
    "                if testing_mode:\n",
    "                    print(f\"Added {number_position['number']} to the sum\")\n",
    "\n",
    "    return total_sum\n"
   ]
  },
  {
   "cell_type": "code",
   "execution_count": null,
   "id": "3daddee6-e7c3-4574-8baf-ae79fe69a952",
   "metadata": {
    "tags": []
   },
   "outputs": [],
   "source": [
    "sum = calculate_adjacent_numbers_sum(number_positions_dict, symbol_positions_dict)"
   ]
  },
  {
   "cell_type": "code",
   "execution_count": null,
   "id": "48948365-3377-40ea-974a-65b5b084b19c",
   "metadata": {
    "tags": []
   },
   "outputs": [],
   "source": [
    "sum"
   ]
  },
  {
   "cell_type": "markdown",
   "id": "e396f408-6d49-4239-915c-a8e5789e6b7c",
   "metadata": {},
   "source": [
    "# Part Two\n",
    "\n",
    "The engineer finds the missing part and installs it in the engine! As the engine springs to life, you jump in the closest gondola, finally ready to ascend to the water source.\n",
    "\n",
    "You don't seem to be going very fast, though. Maybe something is still wrong? Fortunately, the gondola has a phone labeled \"help\", so you pick it up and the engineer answers.\n",
    "\n",
    "Before you can explain the situation, she suggests that you look out the window. There stands the engineer, holding a phone in one hand and waving with the other. You're going so slowly that you haven't even left the station. You exit the gondola.\n",
    "\n",
    "The missing part wasn't the only issue - one of the gears in the engine is wrong. A gear is any * symbol that is adjacent to exactly two part numbers. Its gear ratio is the result of multiplying those two numbers together.\n",
    "\n",
    "This time, you need to find the gear ratio of every gear and add them all up so that the engineer can figure out which gear needs to be replaced.\n",
    "\n",
    "Consider the same engine schematic again:\n",
    "\n",
    "```\n",
    "467..114..\n",
    "...*......\n",
    "..35..633.\n",
    "......#...\n",
    "617*......\n",
    ".....+.58.\n",
    "..592.....\n",
    "......755.\n",
    "...$.*....\n",
    ".664.598..\n",
    "```\n",
    "\n",
    "In this schematic, there are two gears. The first is in the top left; it has part numbers 467 and 35, so its gear ratio is 16345. The second gear is in the lower right; its gear ratio is 451490. (The * adjacent to 617 is not a gear because it is only adjacent to one part number.) Adding up all of the gear ratios produces 467835."
   ]
  },
  {
   "cell_type": "code",
   "execution_count": null,
   "id": "d81d1a07-42f7-433c-b86e-a89a3b593885",
   "metadata": {
    "tags": []
   },
   "outputs": [],
   "source": [
    "from typing import List, Dict\n",
    "\n",
    "def record_asterisk_positions(lines: List[str]) -> Dict[int, List[int]]:\n",
    "    \"\"\"\n",
    "    Record the positions of asterisks in each line.\n",
    "\n",
    "    Parameters:\n",
    "    - lines (List[str]): A list of strings.\n",
    "\n",
    "    Returns:\n",
    "    - Dict[int, List[int]]: A dictionary where keys are line numbers and values are lists of asterisk positions.\n",
    "    \"\"\"\n",
    "    asterisk_positions_dict = {}\n",
    "\n",
    "    for line_number, line in enumerate(lines):\n",
    "        asterisk_positions = [i for i, char in enumerate(line) if char == '*']\n",
    "        asterisk_positions_dict[line_number] = asterisk_positions\n",
    "\n",
    "    return asterisk_positions_dict\n",
    "\n",
    "asterisk_positions_dict = record_asterisk_positions(lines)\n",
    "\n",
    "# Print the result\n",
    "for line_number, positions in asterisk_positions_dict.items():\n",
    "    print(f\"Line {line_number}: {positions}\")\n"
   ]
  },
  {
   "cell_type": "code",
   "execution_count": 178,
   "id": "0a9bf80a-b0bc-478d-9233-651a86e0de27",
   "metadata": {
    "execution": {
     "iopub.execute_input": "2023-12-04T03:54:55.783901Z",
     "iopub.status.busy": "2023-12-04T03:54:55.782906Z",
     "iopub.status.idle": "2023-12-04T03:54:55.823794Z",
     "shell.execute_reply": "2023-12-04T03:54:55.822796Z",
     "shell.execute_reply.started": "2023-12-04T03:54:55.783901Z"
    },
    "tags": []
   },
   "outputs": [
    {
     "name": "stdout",
     "output_type": "stream",
     "text": [
      "84495585\n"
     ]
    }
   ],
   "source": [
    "from typing import Dict, List\n",
    "\n",
    "def calculate_product_of_adjacent_numbers_for_asterisks(asterisk_positions_dict: Dict[int, List[int]], number_positions_dict: Dict[int, List[Dict[str, int]]]) -> int:\n",
    "    \"\"\"\n",
    "    Calculate the product of two adjacent numbers for each asterisk position.\n",
    "\n",
    "    Parameters:\n",
    "    - asterisk_positions_dict (Dict[int, List[int]]): A dictionary where keys are line numbers and values are lists of asterisk positions.\n",
    "    - number_positions_dict (Dict[int, List[Dict[str, int]]]): A dictionary where keys are line numbers and values are lists of number positions.\n",
    "\n",
    "    Returns:\n",
    "    - int: The total sum of products for asterisk positions with two adjacent numbers.\n",
    "    \"\"\"\n",
    "    total_sum = 0\n",
    "\n",
    "    for row, symbol_position_list in asterisk_positions_dict.items():\n",
    "        for symbol_position in symbol_position_list:\n",
    "            valid_numbers = []\n",
    "\n",
    "            # Mock symbol list containing the current symbol position\n",
    "            mock_symbol_list = [symbol_position]\n",
    "\n",
    "            # Retrieve adjacent numbers for the above, below, and same rows\n",
    "            above_row_numbers = number_positions_dict[max(row - 1, 0)]\n",
    "            below_row_numbers = number_positions_dict[min(row + 1, max(number_positions_dict.keys()))]\n",
    "            same_row_numbers = number_positions_dict[row]\n",
    "\n",
    "            # Check for adjacency with the mock symbol list for each row\n",
    "            for number_position in above_row_numbers:\n",
    "                if check_above_below_row_adjacency(number_position, mock_symbol_list):\n",
    "                    valid_numbers.append(number_position['number'])\n",
    "\n",
    "            for number_position in below_row_numbers:\n",
    "                if check_above_below_row_adjacency(number_position, mock_symbol_list):\n",
    "                    valid_numbers.append(number_position['number'])\n",
    "\n",
    "            for number_position in same_row_numbers:\n",
    "                if check_above_below_row_adjacency(number_position, mock_symbol_list):\n",
    "                    valid_numbers.append(number_position['number'])\n",
    "\n",
    "            # If there are exactly two adjacent numbers, calculate their product and add to the total sum\n",
    "            if len(valid_numbers) == 2:\n",
    "                total_sum += valid_numbers[0] * valid_numbers[1]\n",
    "\n",
    "    return total_sum\n",
    "\n",
    "number_positions_dict = get_number_positions_for_lines(lines)\n",
    "asterisk_positions_dict = record_asterisk_positions(lines)\n",
    "\n",
    "result = calculate_product_of_adjacent_numbers_for_asterisks(asterisk_positions_dict, number_positions_dict)\n",
    "print(result)\n"
   ]
  },
  {
   "cell_type": "code",
   "execution_count": null,
   "id": "7f82aa1e-b9ba-4440-ab67-2d1b94f80d0e",
   "metadata": {},
   "outputs": [],
   "source": []
  }
 ],
 "metadata": {
  "kernelspec": {
   "display_name": "Python 3 (ipykernel)",
   "language": "python",
   "name": "python3"
  },
  "language_info": {
   "codemirror_mode": {
    "name": "ipython",
    "version": 3
   },
   "file_extension": ".py",
   "mimetype": "text/x-python",
   "name": "python",
   "nbconvert_exporter": "python",
   "pygments_lexer": "ipython3",
   "version": "3.9.7"
  }
 },
 "nbformat": 4,
 "nbformat_minor": 5
}
