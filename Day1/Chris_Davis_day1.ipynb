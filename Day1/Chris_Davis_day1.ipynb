{
 "cells": [
  {
   "cell_type": "markdown",
   "id": "5a934154-70de-4889-a41f-d47e2de32aed",
   "metadata": {
    "execution": {
     "iopub.execute_input": "2023-12-01T21:59:33.501555Z",
     "iopub.status.busy": "2023-12-01T21:59:33.501555Z",
     "iopub.status.idle": "2023-12-01T21:59:33.520503Z",
     "shell.execute_reply": "2023-12-01T21:59:33.519530Z",
     "shell.execute_reply.started": "2023-12-01T21:59:33.501555Z"
    }
   },
   "source": [
    "# Link to chatgpt:\n",
    "https://chat.openai.com/share/f0e7f8ab-9ff8-49cf-a439-dd66c4a19277"
   ]
  },
  {
   "cell_type": "markdown",
   "id": "28b3c1d9-15c9-452a-90ec-ef61e3803785",
   "metadata": {},
   "source": [
    "# Day 1\n",
    "\n",
    "--- Day 1: Trebuchet?! ---\n",
    "\n",
    "Something is wrong with global snow production, and you've been selected to take a look. The Elves have even given you a map; on it, they've used stars to mark the top fifty locations that are likely to be having problems.\n",
    "\n",
    "You've been doing this long enough to know that to restore snow operations, you need to check all fifty stars by December 25th.\n",
    "\n",
    "Collect stars by solving puzzles. Two puzzles will be made available on each day in the Advent calendar; the second puzzle is unlocked when you complete the first. Each puzzle grants one star. Good luck!\n",
    "\n",
    "You try to ask why they can't just use a weather machine (\"not powerful enough\") and where they're even sending you (\"the sky\") and why your map looks mostly blank (\"you sure ask a lot of questions\") and hang on did you just say the sky (\"of course, where do you think snow comes from\") when you realize that the Elves are already loading you into a trebuchet (\"please hold still, we need to strap you in\").\n",
    "\n",
    "As they're making the final adjustments, they discover that their calibration document (your puzzle input) has been amended by a very young Elf who was apparently just excited to show off her art skills. Consequently, the Elves are having trouble reading the values on the document.\n",
    "\n",
    "The newly-improved calibration document consists of lines of text; each line originally contained a specific calibration value that the Elves now need to recover. On each line, the calibration value can be found by combining the first digit and the last digit (in that order) to form a single two-digit number."
   ]
  },
  {
   "cell_type": "markdown",
   "id": "16e8ac7d-a11d-42ad-924b-c1d3a3eba2dc",
   "metadata": {},
   "source": [
    "For example:\n",
    "```\n",
    "1abc2\n",
    "pqr3stu8vwx\n",
    "a1b2c3d4e5f\n",
    "treb7uchet\n",
    "```\n",
    "In this example, the calibration values of these four lines are 12, 38, 15, and 77. Adding these together produces 142.\n",
    "\n",
    "Consider your entire calibration document. What is the sum of all of the calibration values?"
   ]
  },
  {
   "cell_type": "code",
   "execution_count": 1,
   "id": "9ad4dce7-276b-4050-a120-9a10eaf94647",
   "metadata": {
    "execution": {
     "iopub.execute_input": "2023-12-01T21:58:24.590626Z",
     "iopub.status.busy": "2023-12-01T21:58:24.589621Z",
     "iopub.status.idle": "2023-12-01T21:58:24.615552Z",
     "shell.execute_reply": "2023-12-01T21:58:24.614554Z",
     "shell.execute_reply.started": "2023-12-01T21:58:24.590626Z"
    },
    "tags": []
   },
   "outputs": [],
   "source": [
    "def read_input_file(filename):\n",
    "    \"\"\"\n",
    "    Read input lines from the given file.\n",
    "\n",
    "    :param filename: The name of the input file.\n",
    "    :return: A list of strings representing each line in the file.\n",
    "    \"\"\"\n",
    "    input_lines = []\n",
    "\n",
    "    with open(filename, 'r') as file:\n",
    "        for line in file:\n",
    "            input_lines.append(line.strip())\n",
    "\n",
    "    return input_lines"
   ]
  },
  {
   "cell_type": "code",
   "execution_count": 2,
   "id": "c4ed6a35-9ff4-41a8-8612-18083093ff83",
   "metadata": {
    "execution": {
     "iopub.execute_input": "2023-12-01T21:58:24.616549Z",
     "iopub.status.busy": "2023-12-01T21:58:24.616549Z",
     "iopub.status.idle": "2023-12-01T21:58:24.630510Z",
     "shell.execute_reply": "2023-12-01T21:58:24.629539Z",
     "shell.execute_reply.started": "2023-12-01T21:58:24.616549Z"
    },
    "tags": []
   },
   "outputs": [],
   "source": [
    "def extract_calibration_values(line):\n",
    "    \"\"\"\n",
    "    Extract the calibration value from a line.\n",
    "\n",
    "    The calibration value is formed by combining the first and last integers\n",
    "    found in the input line to create a two-digit number.\n",
    "\n",
    "    :param line: The input line containing the calibration value.\n",
    "    :return: The calibration value as a two-digit number.\n",
    "    \"\"\"\n",
    "    # Extract all integers from the line\n",
    "    integers = [int(char) for char in line if char.isdigit()]\n",
    "\n",
    "    # Check if there are at least two integers in the line\n",
    "    if len(integers) >= 2:\n",
    "        # Take the first and last integers and combine them to form a two-digit number\n",
    "        first_digit = integers[0]\n",
    "        last_digit = integers[-1]\n",
    "        calibration_value = first_digit * 10 + last_digit\n",
    "        return calibration_value\n",
    "    \n",
    "    if len(integers) == 1:\n",
    "        calibration_value = integers[0] * 10 + integers[0]\n",
    "        return calibration_value\n",
    "    \n",
    "    else:\n",
    "        # Return 0 if there are not enough integers in the line\n",
    "        return 0\n"
   ]
  },
  {
   "cell_type": "code",
   "execution_count": 3,
   "id": "11fca561-1abd-4f9d-8407-3ec6936ed133",
   "metadata": {
    "execution": {
     "iopub.execute_input": "2023-12-01T21:58:24.633502Z",
     "iopub.status.busy": "2023-12-01T21:58:24.633502Z",
     "iopub.status.idle": "2023-12-01T21:58:24.646467Z",
     "shell.execute_reply": "2023-12-01T21:58:24.645472Z",
     "shell.execute_reply.started": "2023-12-01T21:58:24.633502Z"
    },
    "tags": []
   },
   "outputs": [],
   "source": [
    "def calculate_calibration_sum_from_lines(lines):\n",
    "    \"\"\"\n",
    "    Calculate the sum of calibration values from a list of lines.\n",
    "\n",
    "    :param lines: A list of strings representing each line.\n",
    "    :return: The sum of all calibration values.\n",
    "    \"\"\"\n",
    "    calibration_values = []\n",
    "\n",
    "    for line in lines:\n",
    "        # Check if the line is not empty\n",
    "        if line:\n",
    "            # Extract the calibration value from the line and add it to the list\n",
    "            calibration_value = extract_calibration_values(line)\n",
    "            calibration_values.append(calibration_value)\n",
    "\n",
    "    # Calculate the sum of calibration values\n",
    "    total_sum = sum(calibration_values)\n",
    "    \n",
    "    return total_sum"
   ]
  },
  {
   "cell_type": "code",
   "execution_count": 4,
   "id": "67169b21-1d65-4479-94f0-7b46bc3b4f10",
   "metadata": {
    "execution": {
     "iopub.execute_input": "2023-12-01T21:58:24.647475Z",
     "iopub.status.busy": "2023-12-01T21:58:24.647475Z",
     "iopub.status.idle": "2023-12-01T21:58:24.661429Z",
     "shell.execute_reply": "2023-12-01T21:58:24.661429Z",
     "shell.execute_reply.started": "2023-12-01T21:58:24.647475Z"
    },
    "tags": []
   },
   "outputs": [
    {
     "data": {
      "text/plain": [
       "54953"
      ]
     },
     "execution_count": 4,
     "metadata": {},
     "output_type": "execute_result"
    }
   ],
   "source": [
    "lines = read_input_file('Chris_Davis_input_day1.txt')\n",
    "\n",
    "calculate_calibration_sum_from_lines(lines)"
   ]
  },
  {
   "cell_type": "markdown",
   "id": "013ab969-ac1a-44e2-82ed-6e8dd138e7f6",
   "metadata": {},
   "source": [
    "# Part 2\n",
    "\n",
    "--- Part Two ---\n",
    "\n",
    "Your calculation isn't quite right. It looks like some of the digits are actually spelled out with letters: one, two, three, four, five, six, seven, eight, and nine also count as valid \"digits\".\n",
    "\n",
    "Equipped with this new information, you now need to find the real first and last digit on each line. For example:\n",
    "\n",
    "two1nine\n",
    "eightwothree\n",
    "abcone2threexyz\n",
    "xtwone3four\n",
    "4nineeightseven2\n",
    "zoneight234\n",
    "7pqrstsixteen\n",
    "\n",
    "In this example, the calibration values are 29, 83, 13, 24, 42, 14, and 76. Adding these together produces 281.\n",
    "\n",
    "What is the sum of all of the calibration values?\n"
   ]
  },
  {
   "cell_type": "code",
   "execution_count": 5,
   "id": "2110fc3c-81d3-44bf-9f8f-b4a00a9c9f7d",
   "metadata": {
    "execution": {
     "iopub.execute_input": "2023-12-01T21:58:24.663423Z",
     "iopub.status.busy": "2023-12-01T21:58:24.663423Z",
     "iopub.status.idle": "2023-12-01T21:58:24.677384Z",
     "shell.execute_reply": "2023-12-01T21:58:24.676390Z",
     "shell.execute_reply.started": "2023-12-01T21:58:24.663423Z"
    },
    "tags": []
   },
   "outputs": [],
   "source": [
    "import re\n",
    "\n",
    "def find_start_positions(input_string, pattern):\n",
    "    \"\"\"\n",
    "    Find the character position of the start of each match in the input string.\n",
    "\n",
    "    :param input_string: The input string to search.\n",
    "    :param pattern: The pattern to search for.\n",
    "    :return: A list of start positions of each match.\n",
    "    \"\"\"\n",
    "    matches = [match.start() for match in re.finditer(pattern, input_string)]\n",
    "    return matches\n",
    "\n",
    "def find_start_positions_for_patterns(input_string, pattern_dict):\n",
    "    \"\"\"\n",
    "    Find the character position of the start of each match for multiple patterns in the input string.\n",
    "\n",
    "    :param input_string: The input string to search.\n",
    "    :param pattern_dict: A dictionary where keys are patterns to search for.\n",
    "    :return: A dictionary with patterns as keys and lists of start positions as values.\n",
    "    \"\"\"\n",
    "    result_dict = {pattern: find_start_positions(input_string, pattern) for pattern in pattern_dict}\n",
    "    return result_dict\n",
    "\n",
    "def replace_character_at_position(input_string, position, new_character):\n",
    "    \"\"\"\n",
    "    Replace a character at a given position in the input string with a new character.\n",
    "\n",
    "    :param input_string: The input string.\n",
    "    :param position: The position of the character to replace (0-indexed).\n",
    "    :param new_character: The new character to replace with.\n",
    "    :return: The modified string.\n",
    "    \"\"\"\n",
    "    if 0 <= position < len(input_string):\n",
    "        modified_list = list(input_string)\n",
    "        modified_list[position] = new_character\n",
    "        modified_string = ''.join(modified_list)\n",
    "        return modified_string\n",
    "    else:\n",
    "        return input_string\n",
    "\n",
    "def apply_replacements(input_list, pattern_dict):\n",
    "    \"\"\"\n",
    "    Apply replacements to a list of strings based on a pattern dictionary.\n",
    "\n",
    "    :param input_list: A list of strings to be processed.\n",
    "    :param pattern_dict: A dictionary where keys are patterns to search for, and values are replacement characters.\n",
    "    :return: A new list of strings with replacements applied.\n",
    "    \"\"\"\n",
    "    # Combine all strings in the list into a single string for more efficient processing\n",
    "    combined_input = ' '.join(input_list)\n",
    "    \n",
    "    # Find start positions for each pattern in the combined input\n",
    "    start_positions_dict = find_start_positions_for_patterns(combined_input, pattern_dict)\n",
    "\n",
    "    # Apply replacements for each pattern in the dictionary\n",
    "    for pattern, new_character in pattern_dict.items():\n",
    "        start_positions = start_positions_dict.get(pattern, [])\n",
    "        for position in start_positions:\n",
    "            combined_input = replace_character_at_position(combined_input, position, new_character)\n",
    "\n",
    "    # Split the modified string back into a list of strings\n",
    "    result_list = combined_input.split()\n",
    "\n",
    "    return result_list"
   ]
  },
  {
   "cell_type": "code",
   "execution_count": 6,
   "id": "cb16d3a1-b656-4f8c-9f53-e9c52334d609",
   "metadata": {
    "execution": {
     "iopub.execute_input": "2023-12-01T21:58:24.678382Z",
     "iopub.status.busy": "2023-12-01T21:58:24.678382Z",
     "iopub.status.idle": "2023-12-01T21:58:25.272539Z",
     "shell.execute_reply": "2023-12-01T21:58:25.270674Z",
     "shell.execute_reply.started": "2023-12-01T21:58:24.678382Z"
    },
    "tags": []
   },
   "outputs": [],
   "source": [
    "pattern_dict = {'one': '1', 'two': '2', 'three': '3', 'four': '4', 'five': '5', 'six': '6', 'seven': '7', 'eight': '8', 'nine': '9'}\n",
    "converted_lines = apply_replacements(lines, pattern_dict)"
   ]
  },
  {
   "cell_type": "code",
   "execution_count": 7,
   "id": "2a9cf42f-d181-4bdf-9981-f541bb55d270",
   "metadata": {
    "execution": {
     "iopub.execute_input": "2023-12-01T21:58:25.275527Z",
     "iopub.status.busy": "2023-12-01T21:58:25.274532Z",
     "iopub.status.idle": "2023-12-01T21:58:25.288487Z",
     "shell.execute_reply": "2023-12-01T21:58:25.286497Z",
     "shell.execute_reply.started": "2023-12-01T21:58:25.275527Z"
    },
    "tags": []
   },
   "outputs": [
    {
     "data": {
      "text/plain": [
       "53868"
      ]
     },
     "execution_count": 7,
     "metadata": {},
     "output_type": "execute_result"
    }
   ],
   "source": [
    "calculate_calibration_sum_from_lines(converted_lines)"
   ]
  },
  {
   "cell_type": "code",
   "execution_count": 8,
   "id": "50ea9d96-b3dc-4f16-990c-c9cb9a69b614",
   "metadata": {
    "execution": {
     "iopub.execute_input": "2023-12-01T21:58:25.292479Z",
     "iopub.status.busy": "2023-12-01T21:58:25.291482Z",
     "iopub.status.idle": "2023-12-01T21:58:25.303448Z",
     "shell.execute_reply": "2023-12-01T21:58:25.302450Z",
     "shell.execute_reply.started": "2023-12-01T21:58:25.292479Z"
    },
    "tags": []
   },
   "outputs": [],
   "source": [
    "test_answer_list = [calculate_calibration_sum_from_lines([converted_line]) for converted_line in converted_lines]"
   ]
  },
  {
   "cell_type": "code",
   "execution_count": 9,
   "id": "27d52740-d07c-4499-b13e-b089d776d516",
   "metadata": {
    "execution": {
     "iopub.execute_input": "2023-12-01T21:58:25.304447Z",
     "iopub.status.busy": "2023-12-01T21:58:25.304447Z",
     "iopub.status.idle": "2023-12-01T21:58:25.319406Z",
     "shell.execute_reply": "2023-12-01T21:58:25.318434Z",
     "shell.execute_reply.started": "2023-12-01T21:58:25.304447Z"
    },
    "tags": []
   },
   "outputs": [],
   "source": [
    "old_answer_list = [calculate_calibration_sum_from_lines([line]) for line in lines]"
   ]
  },
  {
   "cell_type": "code",
   "execution_count": 10,
   "id": "74ccf56b-b472-4724-9176-dabd0e9b4539",
   "metadata": {
    "execution": {
     "iopub.execute_input": "2023-12-01T21:58:25.321402Z",
     "iopub.status.busy": "2023-12-01T21:58:25.321402Z",
     "iopub.status.idle": "2023-12-01T21:58:25.335366Z",
     "shell.execute_reply": "2023-12-01T21:58:25.334368Z",
     "shell.execute_reply.started": "2023-12-01T21:58:25.321402Z"
    },
    "tags": []
   },
   "outputs": [],
   "source": [
    "check_dict = {index: (a, b, c, d) for index, (a, b, c, d) in enumerate(zip(lines, converted_lines, test_answer_list, old_answer_list))}"
   ]
  },
  {
   "cell_type": "code",
   "execution_count": 11,
   "id": "27d694bc-7eee-4d77-ae9d-daf508b998e6",
   "metadata": {
    "execution": {
     "iopub.execute_input": "2023-12-01T21:58:25.338355Z",
     "iopub.status.busy": "2023-12-01T21:58:25.337357Z",
     "iopub.status.idle": "2023-12-01T21:58:25.351320Z",
     "shell.execute_reply": "2023-12-01T21:58:25.350323Z",
     "shell.execute_reply.started": "2023-12-01T21:58:25.337357Z"
    },
    "tags": []
   },
   "outputs": [],
   "source": [
    "from pprint import pprint"
   ]
  },
  {
   "cell_type": "code",
   "execution_count": null,
   "id": "0f164234-dcbe-4951-96f7-33c02c48c82d",
   "metadata": {
    "tags": []
   },
   "outputs": [],
   "source": [
    "pprint(check_dict)"
   ]
  },
  {
   "cell_type": "code",
   "execution_count": null,
   "id": "fdfbde57-c341-492e-aa41-97cadbcddba2",
   "metadata": {},
   "outputs": [],
   "source": []
  }
 ],
 "metadata": {
  "kernelspec": {
   "display_name": "Python 3 (ipykernel)",
   "language": "python",
   "name": "python3"
  },
  "language_info": {
   "codemirror_mode": {
    "name": "ipython",
    "version": 3
   },
   "file_extension": ".py",
   "mimetype": "text/x-python",
   "name": "python",
   "nbconvert_exporter": "python",
   "pygments_lexer": "ipython3",
   "version": "3.9.7"
  }
 },
 "nbformat": 4,
 "nbformat_minor": 5
}
